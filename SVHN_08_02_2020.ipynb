{
  "nbformat": 4,
  "nbformat_minor": 0,
  "metadata": {
    "colab": {
      "name": "SVHN_08.02.2020.ipynb",
      "provenance": [],
      "collapsed_sections": []
    },
    "kernelspec": {
      "name": "python3",
      "display_name": "Python 3"
    }
  },
  "cells": [
    {
      "cell_type": "code",
      "metadata": {
        "colab_type": "code",
        "id": "jgPP21eJN89j",
        "outputId": "f7f0c4eb-8f50-476a-d576-eda9029652b6",
        "colab": {
          "base_uri": "https://localhost:8080/",
          "height": 183
        }
      },
      "source": [
        "from keras.models import Sequential\n",
        "from keras.layers import Dense\n",
        "import tensorflow as tf\n",
        "tf.enable_eager_execution()\n",
        "\n",
        "from google.colab import drive\n",
        "drive.mount('/content/drive/')"
      ],
      "execution_count": 1,
      "outputs": [
        {
          "output_type": "stream",
          "text": [
            "Using TensorFlow backend.\n"
          ],
          "name": "stderr"
        },
        {
          "output_type": "display_data",
          "data": {
            "text/html": [
              "<p style=\"color: red;\">\n",
              "The default version of TensorFlow in Colab will soon switch to TensorFlow 2.x.<br>\n",
              "We recommend you <a href=\"https://www.tensorflow.org/guide/migrate\" target=\"_blank\">upgrade</a> now \n",
              "or ensure your notebook will continue to use TensorFlow 1.x via the <code>%tensorflow_version 1.x</code> magic:\n",
              "<a href=\"https://colab.research.google.com/notebooks/tensorflow_version.ipynb\" target=\"_blank\">more info</a>.</p>\n"
            ],
            "text/plain": [
              "<IPython.core.display.HTML object>"
            ]
          },
          "metadata": {
            "tags": []
          }
        },
        {
          "output_type": "stream",
          "text": [
            "Go to this URL in a browser: https://accounts.google.com/o/oauth2/auth?client_id=947318989803-6bn6qk8qdgf4n4g3pfee6491hc0brc4i.apps.googleusercontent.com&redirect_uri=urn%3aietf%3awg%3aoauth%3a2.0%3aoob&response_type=code&scope=email%20https%3a%2f%2fwww.googleapis.com%2fauth%2fdocs.test%20https%3a%2f%2fwww.googleapis.com%2fauth%2fdrive%20https%3a%2f%2fwww.googleapis.com%2fauth%2fdrive.photos.readonly%20https%3a%2f%2fwww.googleapis.com%2fauth%2fpeopleapi.readonly\n",
            "\n",
            "Enter your authorization code:\n",
            "··········\n",
            "Mounted at /content/drive/\n"
          ],
          "name": "stdout"
        }
      ]
    },
    {
      "cell_type": "code",
      "metadata": {
        "id": "ImEe9BgcN-Ix",
        "colab_type": "code",
        "outputId": "f09c6567-8ede-4a63-eb1a-8c2b2a8f3e1a",
        "colab": {
          "base_uri": "https://localhost:8080/",
          "height": 185
        }
      },
      "source": [
        "import h5py\n",
        "import numpy as np\n",
        "\n",
        "f1 = h5py.File(\"/content/drive/My Drive/iPYTHON TF/03.02.2020/SVHN_single_grey1.h5\", 'r')\n",
        "\n",
        "print(list(f1.keys()))\n",
        "\n",
        "train_X = f1['X_train']\n",
        "train_y = f1['y_train']\n",
        "\n",
        "val_X = f1['X_val']\n",
        "val_y = f1['y_val']\n",
        "\n",
        "test_X = f1['X_test']\n",
        "test_y = f1['y_test']\n",
        "\n",
        "\n",
        "print ()\n",
        "print (np.array(train_X.value).shape)\n",
        "print (np.array(train_y.value).shape)\n",
        "\n",
        "print ()\n",
        "print (np.array(val_X.value).shape)\n",
        "print (np.array(val_y.value).shape)\n",
        "\n",
        "print ()\n",
        "print (np.array(test_X.value).shape)\n",
        "print (np.array(test_y.value).shape)"
      ],
      "execution_count": 2,
      "outputs": [
        {
          "output_type": "stream",
          "text": [
            "['X_test', 'X_train', 'X_val', 'y_test', 'y_train', 'y_val']\n",
            "\n",
            "(42000, 32, 32)\n",
            "(42000,)\n",
            "\n",
            "(60000, 32, 32)\n",
            "(60000,)\n",
            "\n",
            "(18000, 32, 32)\n",
            "(18000,)\n"
          ],
          "name": "stdout"
        }
      ]
    },
    {
      "cell_type": "code",
      "metadata": {
        "id": "HlX8AsPumCyK",
        "colab_type": "code",
        "outputId": "c6f1f9c5-6b17-47e8-ec1d-15263e96d921",
        "colab": {
          "base_uri": "https://localhost:8080/",
          "height": 294
        }
      },
      "source": [
        "#Let's review the data\n",
        "import matplotlib.pyplot as plt\n",
        "import numpy as np\n",
        "img_num = np.random.randint(0, test_X.shape[0]) #Get a random integer between 0 and number of examples in test dataset\n",
        "plt.imshow(test_X[img_num],cmap='gray') #Show the image from test dataset\n",
        "plt.suptitle('Number: ' + str(test_y[img_num]))\n",
        "plt.show()"
      ],
      "execution_count": 3,
      "outputs": [
        {
          "output_type": "display_data",
          "data": {
            "image/png": "[encoded data removed]",
            "text/plain": [
              "<Figure size 432x288 with 1 Axes>"
            ]
          },
          "metadata": {
            "tags": []
          }
        }
      ]
    },
    {
      "cell_type": "code",
      "metadata": {
        "id": "oFS5xexMYQV5",
        "colab_type": "code",
        "outputId": "49f29c31-cfcb-43af-b8d6-ad472e6d64d8",
        "colab": {
          "base_uri": "https://localhost:8080/",
          "height": 588
        }
      },
      "source": [
        "#train_y = tf.keras.utils.to_categorical(train_y, num_classes=10)\n",
        "#val_y = tf.keras.utils.to_categorical(val_y, num_classes=10)\n",
        "#test_y = tf.keras.utils.to_categorical(test_y, num_classes=10)\n",
        "\n",
        "model1 = tf.keras.models.Sequential()\n",
        "model1.add(tf.keras.layers.Reshape((1024,),input_shape=(32,32,)))\n",
        "model1.add(tf.keras.layers.BatchNormalization())\n",
        "\n",
        "#Hidden layers\n",
        "model1.add(tf.keras.layers.Dense(200, activation='relu', name='Layer_1'))\n",
        "#normalize data\n",
        "model1.add(tf.keras.layers.BatchNormalization())\n",
        "\n",
        "\n",
        "model1.add(tf.keras.layers.Dense(100, activation='relu', name='Layer_2'))\n",
        "#normalize data\n",
        "model1.add(tf.keras.layers.BatchNormalization())\n",
        "\n",
        "\n",
        "#Dropout layer\n",
        "model1.add(tf.keras.layers.Dropout(0.3))\n",
        "\n",
        "#Hidden layers\n",
        "model1.add(tf.keras.layers.Dense(60, activation='relu', name='Layer_3'))\n",
        "#normalize data\n",
        "model1.add(tf.keras.layers.BatchNormalization())\n",
        "\n",
        "model1.add(tf.keras.layers.Dense(30, activation='relu', name='Layer_4'))\n",
        "#normalize data\n",
        "model1.add(tf.keras.layers.BatchNormalization())\n",
        "\n",
        "\n",
        "#Dropout layer\n",
        "model1.add(tf.keras.layers.Dropout(0.3))\n",
        "\n",
        "#Output layer\n",
        "model1.add(tf.keras.layers.Dense(10, activation='softmax', name='Output'))\n",
        "\n",
        "model1.compile(optimizer='adam', loss='sparse_categorical_crossentropy', metrics=['accuracy'])\n",
        "\n",
        "model1.summary()\n",
        "\n"
      ],
      "execution_count": 4,
      "outputs": [
        {
          "output_type": "stream",
          "text": [
            "Model: \"sequential\"\n",
            "_________________________________________________________________\n",
            "Layer (type)                 Output Shape              Param #   \n",
            "=================================================================\n",
            "reshape (Reshape)            (None, 1024)              0         \n",
            "_________________________________________________________________\n",
            "batch_normalization (BatchNo (None, 1024)              4096      \n",
            "_________________________________________________________________\n",
            "Layer_1 (Dense)              (None, 200)               205000    \n",
            "_________________________________________________________________\n",
            "batch_normalization_1 (Batch (None, 200)               800       \n",
            "_________________________________________________________________\n",
            "Layer_2 (Dense)              (None, 100)               20100     \n",
            "_________________________________________________________________\n",
            "batch_normalization_2 (Batch (None, 100)               400       \n",
            "_________________________________________________________________\n",
            "dropout (Dropout)            (None, 100)               0         \n",
            "_________________________________________________________________\n",
            "Layer_3 (Dense)              (None, 60)                6060      \n",
            "_________________________________________________________________\n",
            "batch_normalization_3 (Batch (None, 60)                240       \n",
            "_________________________________________________________________\n",
            "Layer_4 (Dense)              (None, 30)                1830      \n",
            "_________________________________________________________________\n",
            "batch_normalization_4 (Batch (None, 30)                120       \n",
            "_________________________________________________________________\n",
            "dropout_1 (Dropout)          (None, 30)                0         \n",
            "_________________________________________________________________\n",
            "Output (Dense)               (None, 10)                310       \n",
            "=================================================================\n",
            "Total params: 238,956\n",
            "Trainable params: 236,128\n",
            "Non-trainable params: 2,828\n",
            "_________________________________________________________________\n"
          ],
          "name": "stdout"
        }
      ]
    },
    {
      "cell_type": "code",
      "metadata": {
        "id": "58KYC1i_Z_AF",
        "colab_type": "code",
        "outputId": "37535ba7-3b3c-48d0-ed67-e01dac0331d5",
        "colab": {
          "base_uri": "https://localhost:8080/",
          "height": 1000
        }
      },
      "source": [
        "#Train the model\n",
        "model1.fit(train_X,train_y,          \n",
        "          validation_data=(np.array(val_X),val_y),\n",
        "          epochs=33,\n",
        "          batch_size=32,\n",
        "          shuffle=\"batch\"\n",
        "          )"
      ],
      "execution_count": 5,
      "outputs": [
        {
          "output_type": "stream",
          "text": [
            "WARNING:tensorflow:Falling back from v2 loop because of error: Failed to find data adapter that can handle input: <class 'h5py._hl.dataset.Dataset'>, <class 'NoneType'>\n",
            "WARNING:tensorflow:From /usr/local/lib/python3.6/dist-packages/tensorflow_core/python/ops/math_grad.py:1424: where (from tensorflow.python.ops.array_ops) is deprecated and will be removed in a future version.\n",
            "Instructions for updating:\n",
            "Use tf.where in 2.0, which has the same broadcast rule as np.where\n",
            "Train on 42000 samples, validate on 60000 samples\n",
            "Epoch 1/33\n",
            "42000/42000 [==============================] - 17s 403us/sample - loss: 2.0380 - acc: 0.2963 - val_loss: 1.3410 - val_acc: 0.5597\n",
            "Epoch 2/33\n",
            "42000/42000 [==============================] - 16s 370us/sample - loss: 1.4620 - acc: 0.5215 - val_loss: 1.0369 - val_acc: 0.6761\n",
            "Epoch 3/33\n",
            "42000/42000 [==============================] - 15s 365us/sample - loss: 1.2682 - acc: 0.6017 - val_loss: 0.8822 - val_acc: 0.7279\n",
            "Epoch 4/33\n",
            "42000/42000 [==============================] - 15s 367us/sample - loss: 1.1487 - acc: 0.6415 - val_loss: 0.7833 - val_acc: 0.7566\n",
            "Epoch 5/33\n",
            "42000/42000 [==============================] - 15s 365us/sample - loss: 1.0664 - acc: 0.6702 - val_loss: 0.7348 - val_acc: 0.7717\n",
            "Epoch 6/33\n",
            "42000/42000 [==============================] - 15s 355us/sample - loss: 0.9913 - acc: 0.6950 - val_loss: 0.6912 - val_acc: 0.7874\n",
            "Epoch 7/33\n",
            "42000/42000 [==============================] - 15s 364us/sample - loss: 0.9474 - acc: 0.7077 - val_loss: 0.6585 - val_acc: 0.7966\n",
            "Epoch 8/33\n",
            "42000/42000 [==============================] - 15s 362us/sample - loss: 0.8997 - acc: 0.7225 - val_loss: 0.6259 - val_acc: 0.8068\n",
            "Epoch 9/33\n",
            "42000/42000 [==============================] - 15s 358us/sample - loss: 0.8624 - acc: 0.7359 - val_loss: 0.5811 - val_acc: 0.8235\n",
            "Epoch 10/33\n",
            "42000/42000 [==============================] - 15s 349us/sample - loss: 0.8297 - acc: 0.7451 - val_loss: 0.5653 - val_acc: 0.8275\n",
            "Epoch 11/33\n",
            "42000/42000 [==============================] - 15s 363us/sample - loss: 0.8036 - acc: 0.7528 - val_loss: 0.5650 - val_acc: 0.8264\n",
            "Epoch 12/33\n",
            "42000/42000 [==============================] - 15s 361us/sample - loss: 0.7774 - acc: 0.7608 - val_loss: 0.5194 - val_acc: 0.8414\n",
            "Epoch 13/33\n",
            "42000/42000 [==============================] - 14s 345us/sample - loss: 0.7519 - acc: 0.7669 - val_loss: 0.5397 - val_acc: 0.8334\n",
            "Epoch 14/33\n",
            "42000/42000 [==============================] - 15s 353us/sample - loss: 0.7357 - acc: 0.7734 - val_loss: 0.5111 - val_acc: 0.8436\n",
            "Epoch 15/33\n",
            "42000/42000 [==============================] - 16s 374us/sample - loss: 0.7183 - acc: 0.7787 - val_loss: 0.5039 - val_acc: 0.8446\n",
            "Epoch 16/33\n",
            "42000/42000 [==============================] - 16s 370us/sample - loss: 0.7066 - acc: 0.7830 - val_loss: 0.4850 - val_acc: 0.8520\n",
            "Epoch 17/33\n",
            "42000/42000 [==============================] - 15s 367us/sample - loss: 0.6893 - acc: 0.7893 - val_loss: 0.4749 - val_acc: 0.8543\n",
            "Epoch 18/33\n",
            "42000/42000 [==============================] - 15s 361us/sample - loss: 0.6774 - acc: 0.7922 - val_loss: 0.4700 - val_acc: 0.8576\n",
            "Epoch 19/33\n",
            "42000/42000 [==============================] - 16s 372us/sample - loss: 0.6568 - acc: 0.7962 - val_loss: 0.4583 - val_acc: 0.8597\n",
            "Epoch 20/33\n",
            "42000/42000 [==============================] - 16s 381us/sample - loss: 0.6407 - acc: 0.8015 - val_loss: 0.4542 - val_acc: 0.8612\n",
            "Epoch 21/33\n",
            "42000/42000 [==============================] - 15s 365us/sample - loss: 0.6384 - acc: 0.8025 - val_loss: 0.4495 - val_acc: 0.8623\n",
            "Epoch 22/33\n",
            "42000/42000 [==============================] - 15s 359us/sample - loss: 0.6255 - acc: 0.8080 - val_loss: 0.4357 - val_acc: 0.8664\n",
            "Epoch 23/33\n",
            "42000/42000 [==============================] - 15s 367us/sample - loss: 0.6041 - acc: 0.8130 - val_loss: 0.4466 - val_acc: 0.8638\n",
            "Epoch 24/33\n",
            "42000/42000 [==============================] - 15s 361us/sample - loss: 0.6044 - acc: 0.8136 - val_loss: 0.4337 - val_acc: 0.8676\n",
            "Epoch 25/33\n",
            "42000/42000 [==============================] - 16s 371us/sample - loss: 0.5920 - acc: 0.8170 - val_loss: 0.4224 - val_acc: 0.8716\n",
            "Epoch 26/33\n",
            "42000/42000 [==============================] - 15s 356us/sample - loss: 0.5836 - acc: 0.8199 - val_loss: 0.4198 - val_acc: 0.8725\n",
            "Epoch 27/33\n",
            "42000/42000 [==============================] - 15s 360us/sample - loss: 0.5711 - acc: 0.8222 - val_loss: 0.4199 - val_acc: 0.8719\n",
            "Epoch 28/33\n",
            "42000/42000 [==============================] - 15s 359us/sample - loss: 0.5683 - acc: 0.8217 - val_loss: 0.4109 - val_acc: 0.8748\n",
            "Epoch 29/33\n",
            "42000/42000 [==============================] - 15s 359us/sample - loss: 0.5541 - acc: 0.8262 - val_loss: 0.4081 - val_acc: 0.8763\n",
            "Epoch 30/33\n",
            "42000/42000 [==============================] - 15s 359us/sample - loss: 0.5461 - acc: 0.8304 - val_loss: 0.4251 - val_acc: 0.8694\n",
            "Epoch 31/33\n",
            "42000/42000 [==============================] - 15s 367us/sample - loss: 0.5419 - acc: 0.8318 - val_loss: 0.4071 - val_acc: 0.8763\n",
            "Epoch 32/33\n",
            "42000/42000 [==============================] - 15s 359us/sample - loss: 0.5356 - acc: 0.8326 - val_loss: 0.3990 - val_acc: 0.8782\n",
            "Epoch 33/33\n",
            "42000/42000 [==============================] - 15s 359us/sample - loss: 0.5271 - acc: 0.8363 - val_loss: 0.4027 - val_acc: 0.8778\n"
          ],
          "name": "stdout"
        },
        {
          "output_type": "execute_result",
          "data": {
            "text/plain": [
              "<tensorflow.python.keras.callbacks.History at 0x7f9feb3b07b8>"
            ]
          },
          "metadata": {
            "tags": []
          },
          "execution_count": 5
        }
      ]
    },
    {
      "cell_type": "code",
      "metadata": {
        "id": "5KjshI1em1Sf",
        "colab_type": "code",
        "outputId": "9c29d0d8-d202-46c0-f602-21ba91ce9384",
        "colab": {
          "base_uri": "https://localhost:8080/",
          "height": 1000
        }
      },
      "source": [
        "#More training the model\n",
        "\n",
        "model1.fit(train_X,train_y,          \n",
        "          validation_data=(np.array(val_X),val_y),\n",
        "          initial_epoch=33,\n",
        "          epochs=66,\n",
        "          batch_size=32,\n",
        "          shuffle=\"batch\"\n",
        "          )\n",
        "\n"
      ],
      "execution_count": 6,
      "outputs": [
        {
          "output_type": "stream",
          "text": [
            "WARNING:tensorflow:Falling back from v2 loop because of error: Failed to find data adapter that can handle input: <class 'h5py._hl.dataset.Dataset'>, <class 'NoneType'>\n",
            "Train on 42000 samples, validate on 60000 samples\n",
            "Epoch 34/66\n",
            "42000/42000 [==============================] - 16s 377us/sample - loss: 0.5244 - acc: 0.8356 - val_loss: 0.3945 - val_acc: 0.8810\n",
            "Epoch 35/66\n",
            "42000/42000 [==============================] - 15s 368us/sample - loss: 0.5162 - acc: 0.8379 - val_loss: 0.3952 - val_acc: 0.8798\n",
            "Epoch 36/66\n",
            "42000/42000 [==============================] - 16s 371us/sample - loss: 0.5111 - acc: 0.8382 - val_loss: 0.3879 - val_acc: 0.8815\n",
            "Epoch 37/66\n",
            "42000/42000 [==============================] - 16s 371us/sample - loss: 0.5023 - acc: 0.8427 - val_loss: 0.4007 - val_acc: 0.8770\n",
            "Epoch 38/66\n",
            "42000/42000 [==============================] - 16s 379us/sample - loss: 0.4930 - acc: 0.8447 - val_loss: 0.3946 - val_acc: 0.8783\n",
            "Epoch 39/66\n",
            "42000/42000 [==============================] - 16s 386us/sample - loss: 0.4900 - acc: 0.8457 - val_loss: 0.3855 - val_acc: 0.8831\n",
            "Epoch 40/66\n",
            "42000/42000 [==============================] - 16s 370us/sample - loss: 0.4898 - acc: 0.8462 - val_loss: 0.3918 - val_acc: 0.8803\n",
            "Epoch 41/66\n",
            "42000/42000 [==============================] - 16s 375us/sample - loss: 0.4842 - acc: 0.8454 - val_loss: 0.3865 - val_acc: 0.8816\n",
            "Epoch 42/66\n",
            "42000/42000 [==============================] - 16s 376us/sample - loss: 0.4772 - acc: 0.8512 - val_loss: 0.3885 - val_acc: 0.8808\n",
            "Epoch 43/66\n",
            "42000/42000 [==============================] - 16s 372us/sample - loss: 0.4709 - acc: 0.8507 - val_loss: 0.3668 - val_acc: 0.8879\n",
            "Epoch 44/66\n",
            "42000/42000 [==============================] - 16s 379us/sample - loss: 0.4646 - acc: 0.8544 - val_loss: 0.3679 - val_acc: 0.8880\n",
            "Epoch 45/66\n",
            "42000/42000 [==============================] - 15s 366us/sample - loss: 0.4627 - acc: 0.8548 - val_loss: 0.3713 - val_acc: 0.8877\n",
            "Epoch 46/66\n",
            "42000/42000 [==============================] - 16s 372us/sample - loss: 0.4598 - acc: 0.8551 - val_loss: 0.3709 - val_acc: 0.8866\n",
            "Epoch 47/66\n",
            "42000/42000 [==============================] - 15s 369us/sample - loss: 0.4516 - acc: 0.8566 - val_loss: 0.3767 - val_acc: 0.8837\n",
            "Epoch 48/66\n",
            "42000/42000 [==============================] - 15s 361us/sample - loss: 0.4550 - acc: 0.8558 - val_loss: 0.3730 - val_acc: 0.8869\n",
            "Epoch 49/66\n",
            "42000/42000 [==============================] - 15s 366us/sample - loss: 0.4418 - acc: 0.8601 - val_loss: 0.3749 - val_acc: 0.8868\n",
            "Epoch 50/66\n",
            "42000/42000 [==============================] - 16s 371us/sample - loss: 0.4363 - acc: 0.8604 - val_loss: 0.3701 - val_acc: 0.8874\n",
            "Epoch 51/66\n",
            "42000/42000 [==============================] - 15s 366us/sample - loss: 0.4341 - acc: 0.8625 - val_loss: 0.3596 - val_acc: 0.8908\n",
            "Epoch 52/66\n",
            "42000/42000 [==============================] - 15s 358us/sample - loss: 0.4336 - acc: 0.8614 - val_loss: 0.3616 - val_acc: 0.8918\n",
            "Epoch 53/66\n",
            "42000/42000 [==============================] - 15s 361us/sample - loss: 0.4248 - acc: 0.8664 - val_loss: 0.3796 - val_acc: 0.8850\n",
            "Epoch 54/66\n",
            "42000/42000 [==============================] - 15s 366us/sample - loss: 0.4236 - acc: 0.8668 - val_loss: 0.3636 - val_acc: 0.8901\n",
            "Epoch 55/66\n",
            "42000/42000 [==============================] - 15s 355us/sample - loss: 0.4246 - acc: 0.8655 - val_loss: 0.3678 - val_acc: 0.8892\n",
            "Epoch 56/66\n",
            "42000/42000 [==============================] - 15s 349us/sample - loss: 0.4206 - acc: 0.8656 - val_loss: 0.3634 - val_acc: 0.8914\n",
            "Epoch 57/66\n",
            "42000/42000 [==============================] - 15s 352us/sample - loss: 0.4118 - acc: 0.8702 - val_loss: 0.3701 - val_acc: 0.8886\n",
            "Epoch 58/66\n",
            "42000/42000 [==============================] - 15s 354us/sample - loss: 0.4100 - acc: 0.8696 - val_loss: 0.3572 - val_acc: 0.8924\n",
            "Epoch 59/66\n",
            "42000/42000 [==============================] - 16s 374us/sample - loss: 0.4054 - acc: 0.8700 - val_loss: 0.3609 - val_acc: 0.8917\n",
            "Epoch 60/66\n",
            "42000/42000 [==============================] - 14s 345us/sample - loss: 0.4071 - acc: 0.8694 - val_loss: 0.3569 - val_acc: 0.8934\n",
            "Epoch 61/66\n",
            "42000/42000 [==============================] - 14s 343us/sample - loss: 0.4009 - acc: 0.8716 - val_loss: 0.3484 - val_acc: 0.8960\n",
            "Epoch 62/66\n",
            "42000/42000 [==============================] - 15s 355us/sample - loss: 0.4021 - acc: 0.8711 - val_loss: 0.3661 - val_acc: 0.8901\n",
            "Epoch 63/66\n",
            "42000/42000 [==============================] - 15s 353us/sample - loss: 0.3941 - acc: 0.8739 - val_loss: 0.3714 - val_acc: 0.8898\n",
            "Epoch 64/66\n",
            "42000/42000 [==============================] - 15s 348us/sample - loss: 0.3907 - acc: 0.8758 - val_loss: 0.3697 - val_acc: 0.8885\n",
            "Epoch 65/66\n",
            "42000/42000 [==============================] - 15s 346us/sample - loss: 0.3906 - acc: 0.8761 - val_loss: 0.3517 - val_acc: 0.8938\n",
            "Epoch 66/66\n",
            "42000/42000 [==============================] - 15s 353us/sample - loss: 0.3860 - acc: 0.8777 - val_loss: 0.3564 - val_acc: 0.8931\n"
          ],
          "name": "stdout"
        },
        {
          "output_type": "execute_result",
          "data": {
            "text/plain": [
              "<tensorflow.python.keras.callbacks.History at 0x7f9ff27daba8>"
            ]
          },
          "metadata": {
            "tags": []
          },
          "execution_count": 6
        }
      ]
    },
    {
      "cell_type": "code",
      "metadata": {
        "id": "9IriJw4xoVyq",
        "colab_type": "code",
        "outputId": "42f1f853-b64f-4fc7-b7d0-78dcf3deaa3e",
        "colab": {
          "base_uri": "https://localhost:8080/",
          "height": 1000
        }
      },
      "source": [
        "#More training the model\n",
        "\n",
        "model1.fit(train_X,train_y,          \n",
        "          validation_data=(np.array(val_X),val_y),\n",
        "          initial_epoch=66,\n",
        "          epochs=100,\n",
        "          batch_size=32,\n",
        "          shuffle=\"batch\"\n",
        "          )"
      ],
      "execution_count": 7,
      "outputs": [
        {
          "output_type": "stream",
          "text": [
            "WARNING:tensorflow:Falling back from v2 loop because of error: Failed to find data adapter that can handle input: <class 'h5py._hl.dataset.Dataset'>, <class 'NoneType'>\n",
            "Train on 42000 samples, validate on 60000 samples\n",
            "Epoch 67/100\n",
            "42000/42000 [==============================] - 15s 353us/sample - loss: 0.3842 - acc: 0.8772 - val_loss: 0.3597 - val_acc: 0.8921\n",
            "Epoch 68/100\n",
            "42000/42000 [==============================] - 15s 352us/sample - loss: 0.3786 - acc: 0.8795 - val_loss: 0.3609 - val_acc: 0.8919\n",
            "Epoch 69/100\n",
            "42000/42000 [==============================] - 15s 357us/sample - loss: 0.3780 - acc: 0.8780 - val_loss: 0.3552 - val_acc: 0.8937\n",
            "Epoch 70/100\n",
            "42000/42000 [==============================] - 15s 352us/sample - loss: 0.3749 - acc: 0.8800 - val_loss: 0.3531 - val_acc: 0.8952\n",
            "Epoch 71/100\n",
            "42000/42000 [==============================] - 15s 348us/sample - loss: 0.3748 - acc: 0.8789 - val_loss: 0.3564 - val_acc: 0.8926\n",
            "Epoch 72/100\n",
            "42000/42000 [==============================] - 15s 354us/sample - loss: 0.3740 - acc: 0.8801 - val_loss: 0.3515 - val_acc: 0.8958\n",
            "Epoch 73/100\n",
            "42000/42000 [==============================] - 15s 358us/sample - loss: 0.3644 - acc: 0.8837 - val_loss: 0.3471 - val_acc: 0.8970\n",
            "Epoch 74/100\n",
            "42000/42000 [==============================] - 15s 356us/sample - loss: 0.3629 - acc: 0.8843 - val_loss: 0.3538 - val_acc: 0.8956\n",
            "Epoch 75/100\n",
            "42000/42000 [==============================] - 15s 354us/sample - loss: 0.3688 - acc: 0.8814 - val_loss: 0.3464 - val_acc: 0.8967\n",
            "Epoch 76/100\n",
            "42000/42000 [==============================] - 14s 344us/sample - loss: 0.3597 - acc: 0.8840 - val_loss: 0.3566 - val_acc: 0.8950\n",
            "Epoch 77/100\n",
            "42000/42000 [==============================] - 15s 352us/sample - loss: 0.3620 - acc: 0.8829 - val_loss: 0.3411 - val_acc: 0.8986\n",
            "Epoch 78/100\n",
            "42000/42000 [==============================] - 14s 339us/sample - loss: 0.3553 - acc: 0.8846 - val_loss: 0.3539 - val_acc: 0.8953\n",
            "Epoch 79/100\n",
            "42000/42000 [==============================] - 15s 358us/sample - loss: 0.3550 - acc: 0.8884 - val_loss: 0.3521 - val_acc: 0.8971\n",
            "Epoch 80/100\n",
            "42000/42000 [==============================] - 15s 352us/sample - loss: 0.3546 - acc: 0.8851 - val_loss: 0.3525 - val_acc: 0.8952\n",
            "Epoch 81/100\n",
            "42000/42000 [==============================] - 15s 351us/sample - loss: 0.3477 - acc: 0.8882 - val_loss: 0.3440 - val_acc: 0.8973\n",
            "Epoch 82/100\n",
            "42000/42000 [==============================] - 15s 346us/sample - loss: 0.3477 - acc: 0.8875 - val_loss: 0.3515 - val_acc: 0.8963\n",
            "Epoch 83/100\n",
            "42000/42000 [==============================] - 15s 346us/sample - loss: 0.3507 - acc: 0.8878 - val_loss: 0.3450 - val_acc: 0.8989\n",
            "Epoch 84/100\n",
            "42000/42000 [==============================] - 14s 342us/sample - loss: 0.3456 - acc: 0.8893 - val_loss: 0.3399 - val_acc: 0.9006\n",
            "Epoch 85/100\n",
            "42000/42000 [==============================] - 15s 349us/sample - loss: 0.3375 - acc: 0.8893 - val_loss: 0.3475 - val_acc: 0.8981\n",
            "Epoch 86/100\n",
            "42000/42000 [==============================] - 15s 347us/sample - loss: 0.3346 - acc: 0.8908 - val_loss: 0.3404 - val_acc: 0.9004\n",
            "Epoch 87/100\n",
            "42000/42000 [==============================] - 14s 341us/sample - loss: 0.3353 - acc: 0.8902 - val_loss: 0.3571 - val_acc: 0.8952\n",
            "Epoch 88/100\n",
            "42000/42000 [==============================] - 14s 341us/sample - loss: 0.3336 - acc: 0.8910 - val_loss: 0.3517 - val_acc: 0.8967\n",
            "Epoch 89/100\n",
            "42000/42000 [==============================] - 14s 341us/sample - loss: 0.3294 - acc: 0.8927 - val_loss: 0.3610 - val_acc: 0.8941\n",
            "Epoch 90/100\n",
            "42000/42000 [==============================] - 15s 346us/sample - loss: 0.3289 - acc: 0.8950 - val_loss: 0.3519 - val_acc: 0.8959\n",
            "Epoch 91/100\n",
            "42000/42000 [==============================] - 14s 342us/sample - loss: 0.3302 - acc: 0.8933 - val_loss: 0.3364 - val_acc: 0.9013\n",
            "Epoch 92/100\n",
            "42000/42000 [==============================] - 15s 346us/sample - loss: 0.3296 - acc: 0.8934 - val_loss: 0.3488 - val_acc: 0.8979\n",
            "Epoch 93/100\n",
            "42000/42000 [==============================] - 14s 341us/sample - loss: 0.3283 - acc: 0.8937 - val_loss: 0.3470 - val_acc: 0.8987\n",
            "Epoch 94/100\n",
            "42000/42000 [==============================] - 15s 350us/sample - loss: 0.3215 - acc: 0.8955 - val_loss: 0.3416 - val_acc: 0.9005\n",
            "Epoch 95/100\n",
            "42000/42000 [==============================] - 15s 360us/sample - loss: 0.3264 - acc: 0.8948 - val_loss: 0.3641 - val_acc: 0.8934\n",
            "Epoch 96/100\n",
            "42000/42000 [==============================] - 14s 341us/sample - loss: 0.3207 - acc: 0.8966 - val_loss: 0.3455 - val_acc: 0.9000\n",
            "Epoch 97/100\n",
            "42000/42000 [==============================] - 15s 351us/sample - loss: 0.3181 - acc: 0.8966 - val_loss: 0.3413 - val_acc: 0.9012\n",
            "Epoch 98/100\n",
            "42000/42000 [==============================] - 15s 347us/sample - loss: 0.3146 - acc: 0.8973 - val_loss: 0.3606 - val_acc: 0.8939\n",
            "Epoch 99/100\n",
            "42000/42000 [==============================] - 14s 340us/sample - loss: 0.3137 - acc: 0.8982 - val_loss: 0.3335 - val_acc: 0.9028\n",
            "Epoch 100/100\n",
            "42000/42000 [==============================] - 14s 334us/sample - loss: 0.3137 - acc: 0.8978 - val_loss: 0.3423 - val_acc: 0.8996\n"
          ],
          "name": "stdout"
        },
        {
          "output_type": "execute_result",
          "data": {
            "text/plain": [
              "<tensorflow.python.keras.callbacks.History at 0x7f9fea6255f8>"
            ]
          },
          "metadata": {
            "tags": []
          },
          "execution_count": 7
        }
      ]
    },
    {
      "cell_type": "code",
      "metadata": {
        "id": "OqMV520ooWXM",
        "colab_type": "code",
        "outputId": "4ea489b3-4a65-4269-916b-9ceaa8db7687",
        "colab": {
          "base_uri": "https://localhost:8080/",
          "height": 70
        }
      },
      "source": [
        "model1.evaluate(test_X, test_y, batch_size=32, verbose=0)"
      ],
      "execution_count": 8,
      "outputs": [
        {
          "output_type": "stream",
          "text": [
            "WARNING:tensorflow:Falling back from v2 loop because of error: Failed to find data adapter that can handle input: <class 'h5py._hl.dataset.Dataset'>, <class 'NoneType'>\n"
          ],
          "name": "stdout"
        },
        {
          "output_type": "execute_result",
          "data": {
            "text/plain": [
              "[0.5425199247135056, 0.85566664]"
            ]
          },
          "metadata": {
            "tags": []
          },
          "execution_count": 8
        }
      ]
    },
    {
      "cell_type": "code",
      "metadata": {
        "id": "g7GImhprIrmh",
        "colab_type": "code",
        "colab": {}
      },
      "source": [
        "y_pred=model1.predict(np.array(test_X))"
      ],
      "execution_count": 0,
      "outputs": []
    },
    {
      "cell_type": "code",
      "metadata": {
        "id": "5HIAgSBSo3_y",
        "colab_type": "code",
        "outputId": "b61afbc1-d57d-40b9-e47d-dd2ed311c6e2",
        "colab": {
          "base_uri": "https://localhost:8080/",
          "height": 339
        }
      },
      "source": [
        "out1 = []\n",
        "for val in y_pred:\n",
        "    out1.append(np.argmax(val))\n",
        "print(out1)\n",
        "\n",
        "\n",
        "from sklearn import metrics\n",
        "classification_report=metrics.classification_report(test_y,out1)\n",
        "print(classification_report)"
      ],
      "execution_count": 10,
      "outputs": [
        {
          "output_type": "stream",
          "text": [
            "[1, 2, 2, 9, 0, 9, 1, 5, 1, 4, 6, 5, 1, 4, 3, 5, 8, 6, 5, 5, 0, 6, 5, 6, 3, 2, 6, 7, 9, 5, 2, 8, 9, 1, 0, 9, 5, 3, 3, 7, 0, 4, 2, 4, 9, 5, 7, 8, 8, 3, 5, 3, 7, 1, 4, 8, 1, 4, 0, 9, 0, 1, 5, 9, 9, 2, 2, 2, 6, 8, 9, 8, 3, 8, 4, 5, 2, 8, 6, 4, 5, 4, 2, 8, 2, 6, 0, 9, 9, 5, 3, 2, 7, 5, 0, 7, 6, 4, 8, 7, 7, 7, 5, 2, 1, 4, 9, 6, 1, 4, 1, 0, 9, 0, 8, 4, 4, 1, 0, 9, 0, 3, 9, 0, 5, 6, 3, 9, 6, 1, 6, 6, 7, 9, 4, 9, 6, 3, 5, 4, 0, 2, 9, 5, 5, 0, 0, 0, 9, 8, 5, 8, 8, 9, 3, 6, 8, 4, 0, 7, 0, 0, 1, 5, 9, 2, 7, 6, 7, 1, 5, 2, 9, 0, 4, 5, 0, 5, 5, 5, 7, 2, 4, 6, 1, 6, 0, 3, 6, 9, 6, 8, 4, 9, 5, 2, 7, 8, 6, 5, 3, 5, 2, 9, 0, 2, 1, 8, 2, 8, 9, 5, 2, 0, 2, 9, 0, 2, 0, 9, 5, 1, 7, 7, 8, 9, 6, 0, 7, 3, 3, 8, 2, 3, 0, 5, 4, 7, 7, 3, 8, 7, 2, 3, 9, 0, 6, 4, 1, 3, 3, 1, 7, 1, 5, 7, 0, 0, 8, 2, 4, 6, 4, 9, 7, 7, 9, 3, 6, 2, 9, 1, 5, 0, 0, 7, 7, 0, 8, 9, 6, 3, 7, 7, 0, 6, 3, 2, 5, 2, 5, 4, 3, 0, 9, 1, 4, 5, 5, 5, 9, 7, 7, 3, 5, 1, 8, 9, 1, 4, 8, 6, 0, 3, 3, 2, 6, 1, 0, 1, 0, 6, 5, 9, 7, 1, 0, 7, 7, 0, 6, 3, 8, 2, 2, 6, 8, 1, 4, 0, 7, 7, 8, 7, 0, 5, 0, 7, 8, 8, 4, 2, 7, 2, 7, 2, 8, 0, 2, 9, 5, 1, 2, 9, 5, 3, 9, 1, 7, 3, 8, 4, 1, 3, 8, 5, 8, 5, 1, 1, 2, 7, 8, 8, 8, 5, 9, 7, 3, 2, 6, 0, 0, 8, 9, 0, 6, 7, 9, 4, 6, 5, 1, 3, 1, 4, 2, 1, 2, 9, 4, 1, 5, 5, 0, 3, 1, 5, 3, 9, 3, 5, 9, 8, 4, 7, 0, 0, 9, 6, 5, 9, 0, 4, 9, 4, 7, 4, 8, 5, 5, 3, 5, 5, 0, 3, 7, 3, 7, 6, 5, 0, 6, 5, 5, 0, 0, 3, 4, 5, 6, 0, 7, 7, 8, 6, 5, 7, 6, 1, 8, 9, 3, 2, 3, 9, 4, 9, 5, 3, 0, 1, 2, 7, 1, 9, 0, 9, 7, 4, 5, 0, 9, 1, 6, 5, 2, 7, 4, 0, 6, 6, 6, 4, 6, 8, 5, 3, 1, 5, 7, 6, 6, 6, 7, 8, 3, 6, 8, 5, 2, 0, 8, 8, 7, 9, 4, 0, 3, 4, 7, 9, 4, 9, 6, 0, 7, 5, 1, 0, 7, 7, 9, 3, 2, 0, 8, 6, 3, 3, 1, 0, 8, 3, 3, 1, 0, 9, 6, 7, 9, 4, 1, 9, 7, 9, 7, 8, 3, 7, 8, 8, 0, 8, 0, 4, 5, 9, 3, 3, 6, 9, 7, 8, 0, 7, 3, 2, 8, 7, 6, 5, 5, 4, 1, 4, 4, 8, 6, 9, 8, 8, 4, 6, 9, 5, 6, 0, 1, 6, 1, 2, 8, 0, 9, 9, 6, 0, 9, 6, 0, 2, 7, 1, 9, 4, 4, 9, 7, 7, 0, 5, 6, 4, 4, 7, 4, 8, 9, 9, 8, 7, 3, 7, 6, 2, 8, 8, 9, 6, 9, 6, 0, 5, 4, 3, 7, 7, 7, 4, 8, 0, 1, 2, 5, 0, 1, 3, 3, 3, 5, 3, 0, 4, 0, 1, 2, 1, 6, 0, 4, 4, 9, 8, 9, 1, 7, 8, 6, 5, 2, 6, 5, 2, 7, 0, 8, 1, 6, 8, 2, 6, 6, 6, 0, 5, 3, 6, 6, 2, 3, 7, 7, 9, 9, 4, 7, 4, 5, 1, 9, 8, 0, 0, 0, 4, 8, 1, 3, 6, 0, 1, 5, 5, 4, 2, 5, 7, 1, 7, 1, 8, 7, 7, 4, 2, 0, 0, 0, 1, 2, 1, 0, 2, 0, 0, 0, 1, 2, 3, 5, 2, 9, 9, 4, 5, 2, 1, 5, 0, 1, 0, 8, 6, 1, 5, 7, 1, 3, 2, 7, 7, 1, 5, 5, 8, 1, 3, 2, 2, 8, 7, 1, 8, 8, 3, 7, 2, 9, 7, 9, 5, 7, 6, 2, 4, 3, 9, 6, 2, 1, 0, 9, 1, 1, 0, 8, 4, 3, 7, 1, 0, 7, 7, 7, 0, 6, 4, 1, 4, 2, 7, 1, 0, 6, 4, 3, 7, 4, 6, 5, 4, 8, 9, 4, 5, 0, 2, 0, 4, 2, 8, 7, 4, 9, 6, 6, 3, 7, 9, 8, 9, 8, 8, 7, 1, 4, 2, 9, 2, 6, 3, 5, 2, 1, 8, 5, 3, 1, 6, 9, 8, 9, 9, 3, 1, 0, 3, 7, 5, 0, 5, 2, 1, 9, 1, 8, 5, 2, 4, 0, 0, 4, 1, 1, 3, 7, 1, 3, 9, 5, 8, 2, 8, 3, 9, 7, 4, 3, 4, 4, 7, 0, 8, 6, 6, 9, 7, 5, 2, 6, 2, 1, 0, 5, 1, 0, 1, 0, 2, 1, 3, 3, 7, 2, 6, 6, 8, 1, 1, 4, 8, 7, 3, 5, 5, 2, 0, 0, 5, 5, 4, 8, 0, 8, 9, 6, 8, 0, 3, 7, 2, 9, 2, 8, 7, 7, 0, 3, 5, 0, 4, 4, 7, 3, 5, 7, 4, 4, 9, 9, 5, 1, 1, 5, 9, 7, 1, 9, 1, 1, 7, 0, 2, 2, 7, 5, 2, 5, 3, 2, 1, 2, 9, 5, 3, 6, 6, 7, 4, 8, 5, 2, 2, 3, 5, 2, 6, 7, 2, 0, 0, 0, 4, 0, 6, 6, 8, 1, 0, 5, 6, 0, 8, 7, 3, 0, 6, 6, 2, 7, 8, 5, 2, 3, 0, 3, 5, 7, 5, 3, 9, 5, 4, 0, 8, 3, 6, 9, 9, 8, 9, 8, 5, 1, 0, 0, 9, 1, 8, 6, 3, 7, 9, 2, 3, 8, 3, 2, 5, 9, 9, 3, 2, 5, 5, 7, 6, 5, 7, 6, 9, 0, 5, 1, 4, 5, 4, 1, 0, 6, 3, 5, 1, 2, 7, 1, 8, 8, 7, 0, 7, 5, 7, 3, 7, 3, 7, 9, 6, 5, 8, 9, 0, 4, 9, 5, 7, 8, 3, 7, 9, 5, 2, 8, 7, 3, 1, 3, 7, 9, 1, 7, 0, 5, 9, 0, 5, 5, 3, 2, 8, 0, 4, 4, 0, 2, 1, 9, 4, 0, 0, 2, 2, 3, 5, 3, 5, 3, 3, 5, 9, 5, 9, 3, 9, 3, 2, 4, 3, 9, 7, 0, 7, 2, 5, 7, 1, 6, 4, 7, 5, 5, 2, 5, 3, 8, 3, 6, 8, 0, 5, 3, 5, 7, 2, 7, 9, 9, 4, 6, 6, 6, 8, 7, 7, 2, 8, 2, 5, 6, 4, 5, 0, 4, 8, 1, 3, 0, 6, 0, 5, 6, 1, 6, 3, 4, 9, 0, 9, 9, 1, 3, 5, 8, 1, 3, 5, 5, 5, 5, 0, 6, 4, 4, 7, 1, 1, 7, 8, 8, 3, 9, 0, 3, 1, 1, 7, 1, 0, 4, 0, 7, 0, 5, 1, 6, 6, 2, 3, 2, 4, 1, 5, 3, 3, 1, 9, 4, 1, 4, 4, 8, 4, 0, 1, 4, 5, 1, 4, 2, 8, 6, 3, 9, 6, 9, 8, 6, 2, 5, 9, 4, 5, 7, 0, 0, 4, 4, 4, 8, 1, 3, 1, 4, 2, 4, 3, 4, 8, 8, 8, 3, 6, 3, 1, 9, 2, 4, 3, 8, 9, 9, 0, 0, 0, 9, 9, 8, 7, 3, 1, 2, 0, 9, 0, 7, 4, 5, 3, 4, 4, 5, 6, 6, 3, 9, 4, 6, 3, 3, 8, 4, 6, 9, 3, 4, 0, 0, 0, 6, 1, 2, 4, 8, 4, 5, 3, 6, 1, 7, 7, 6, 3, 3, 6, 0, 6, 5, 8, 9, 2, 3, 6, 9, 4, 7, 5, 2, 0, 0, 7, 9, 0, 2, 7, 7, 6, 9, 2, 2, 6, 1, 9, 7, 4, 5, 9, 6, 0, 5, 2, 3, 3, 7, 7, 2, 9, 7, 3, 6, 8, 0, 1, 7, 5, 8, 8, 3, 9, 3, 3, 4, 1, 0, 6, 1, 5, 0, 6, 5, 5, 0, 9, 3, 7, 6, 7, 7, 0, 1, 8, 9, 5, 9, 1, 8, 6, 6, 0, 0, 4, 6, 8, 9, 3, 5, 6, 6, 6, 2, 8, 1, 5, 6, 9, 5, 8, 4, 0, 9, 5, 4, 4, 9, 9, 3, 7, 9, 1, 2, 0, 6, 3, 5, 5, 3, 1, 3, 1, 2, 3, 7, 2, 6, 9, 8, 8, 1, 1, 9, 1, 9, 6, 9, 6, 8, 8, 9, 4, 8, 9, 2, 4, 0, 4, 4, 3, 7, 9, 2, 0, 3, 4, 4, 1, 5, 0, 5, 7, 1, 5, 9, 1, 7, 4, 8, 5, 0, 8, 8, 4, 3, 8, 8, 8, 3, 6, 0, 6, 2, 6, 7, 8, 0, 8, 8, 3, 2, 1, 1, 6, 1, 1, 9, 4, 7, 5, 0, 3, 0, 8, 3, 3, 0, 0, 0, 2, 0, 3, 3, 0, 4, 5, 1, 3, 6, 9, 7, 5, 6, 1, 6, 9, 4, 9, 8, 8, 3, 9, 0, 5, 1, 7, 4, 7, 3, 7, 2, 7, 7, 0, 4, 9, 9, 4, 8, 7, 2, 1, 2, 0, 2, 1, 7, 4, 7, 0, 1, 3, 4, 4, 7, 8, 5, 1, 0, 1, 6, 9, 6, 4, 9, 3, 9, 2, 4, 7, 9, 7, 3, 2, 7, 7, 4, 4, 8, 4, 3, 4, 4, 2, 4, 7, 7, 3, 3, 6, 3, 2, 0, 0, 6, 8, 5, 8, 0, 7, 7, 9, 4, 1, 6, 1, 5, 5, 1, 2, 6, 0, 6, 2, 6, 0, 1, 9, 3, 4, 8, 9, 5, 5, 5, 6, 3, 3, 3, 1, 9, 7, 3, 7, 6, 3, 8, 5, 0, 2, 6, 7, 0, 2, 7, 2, 7, 2, 4, 7, 6, 7, 5, 4, 7, 5, 2, 9, 5, 1, 1, 0, 6, 2, 5, 6, 6, 4, 7, 2, 9, 9, 9, 6, 5, 5, 6, 3, 6, 6, 5, 8, 0, 4, 3, 3, 8, 4, 1, 1, 8, 3, 2, 7, 4, 4, 2, 1, 1, 2, 6, 5, 0, 4, 5, 0, 8, 0, 2, 5, 5, 1, 7, 8, 1, 7, 5, 6, 1, 3, 6, 0, 8, 4, 4, 6, 3, 3, 5, 8, 3, 4, 1, 0, 4, 3, 5, 2, 5, 1, 5, 8, 0, 0, 7, 9, 7, 3, 5, 2, 7, 1, 1, 6, 6, 1, 5, 0, 2, 1, 3, 4, 6, 8, 3, 4, 1, 9, 7, 5, 0, 1, 0, 1, 5, 2, 3, 1, 6, 5, 7, 0, 8, 2, 8, 1, 4, 6, 5, 3, 1, 2, 9, 4, 1, 6, 7, 2, 6, 1, 7, 2, 9, 0, 3, 0, 2, 4, 9, 7, 2, 5, 7, 2, 4, 4, 1, 0, 2, 0, 8, 7, 5, 7, 5, 3, 9, 7, 2, 7, 3, 4, 9, 4, 1, 0, 2, 7, 4, 9, 9, 4, 5, 6, 4, 6, 4, 4, 8, 9, 5, 0, 1, 8, 4, 9, 2, 1, 1, 1, 3, 6, 7, 6, 5, 3, 8, 0, 7, 0, 4, 8, 2, 4, 9, 8, 0, 1, 0, 3, 5, 4, 5, 4, 6, 8, 7, 9, 5, 4, 8, 0, 0, 5, 6, 3, 9, 3, 9, 9, 5, 5, 3, 3, 1, 0, 1, 4, 6, 1, 4, 6, 7, 7, 5, 5, 8, 3, 3, 3, 4, 8, 3, 7, 8, 3, 4, 1, 1, 3, 6, 6, 7, 3, 5, 5, 2, 2, 7, 2, 5, 7, 6, 4, 7, 5, 3, 2, 5, 6, 1, 1, 7, 9, 4, 8, 9, 1, 8, 1, 5, 0, 2, 9, 0, 3, 4, 1, 8, 6, 3, 5, 1, 0, 9, 2, 4, 4, 3, 1, 1, 9, 5, 5, 4, 8, 6, 6, 8, 9, 6, 6, 5, 3, 9, 1, 9, 1, 3, 5, 6, 7, 3, 0, 2, 2, 6, 7, 2, 5, 4, 0, 4, 2, 0, 7, 5, 0, 1, 4, 2, 9, 4, 6, 1, 7, 2, 7, 3, 4, 6, 9, 0, 6, 0, 1, 3, 9, 4, 4, 9, 8, 0, 2, 5, 3, 2, 7, 3, 1, 7, 4, 5, 6, 9, 5, 5, 0, 2, 5, 9, 6, 3, 8, 0, 7, 5, 4, 2, 7, 5, 6, 9, 8, 5, 0, 0, 0, 0, 0, 9, 1, 4, 1, 2, 4, 4, 5, 5, 5, 1, 3, 0, 6, 1, 7, 2, 0, 2, 0, 9, 5, 0, 6, 8, 7, 8, 4, 9, 3, 7, 9, 8, 3, 6, 0, 5, 1, 6, 2, 8, 7, 6, 6, 0, 0, 6, 3, 2, 8, 0, 8, 4, 6, 2, 4, 2, 7, 5, 0, 6, 6, 6, 9, 6, 9, 5, 8, 1, 5, 7, 8, 6, 9, 1, 6, 1, 9, 1, 0, 4, 4, 9, 0, 9, 9, 5, 7, 1, 6, 4, 1, 7, 3, 2, 6, 5, 3, 4, 9, 0, 5, 9, 0, 1, 1, 5, 7, 7, 5, 8, 0, 5, 2, 2, 4, 0, 5, 1, 8, 8, 9, 6, 7, 9, 5, 5, 9, 7, 3, 0, 8, 3, 2, 2, 6, 0, 0, 6, 9, 8, 7, 1, 4, 7, 1, 4, 7, 2, 5, 7, 6, 4, 4, 1, 5, 1, 6, 5, 2, 7, 0, 7, 3, 1, 4, 9, 4, 1, 1, 9, 0, 0, 3, 9, 0, 1, 3, 4, 7, 6, 3, 1, 1, 5, 9, 2, 1, 2, 6, 7, 7, 8, 6, 4, 0, 4, 9, 4, 4, 4, 5, 8, 4, 8, 3, 8, 7, 1, 3, 3, 9, 0, 8, 2, 5, 2, 1, 2, 8, 7, 8, 1, 9, 7, 7, 0, 7, 7, 4, 6, 5, 9, 5, 5, 9, 1, 2, 5, 3, 3, 9, 3, 3, 8, 1, 9, 7, 6, 9, 1, 5, 8, 7, 5, 2, 6, 5, 8, 0, 5, 8, 5, 0, 9, 9, 5, 0, 4, 9, 4, 7, 4, 5, 9, 4, 9, 4, 3, 5, 9, 5, 8, 1, 9, 2, 5, 2, 7, 2, 4, 7, 7, 6, 0, 6, 7, 4, 7, 8, 2, 1, 9, 5, 0, 6, 6, 8, 0, 9, 3, 0, 0, 8, 6, 7, 9, 1, 2, 6, 5, 5, 3, 6, 7, 8, 7, 0, 6, 6, 0, 5, 7, 8, 1, 6, 7, 8, 6, 2, 7, 3, 5, 2, 9, 2, 0, 4, 9, 0, 8, 8, 5, 7, 3, 3, 3, 1, 4, 8, 4, 1, 1, 7, 5, 4, 7, 8, 3, 1, 0, 4, 0, 2, 6, 8, 9, 0, 9, 0, 6, 3, 8, 8, 3, 0, 5, 9, 0, 8, 4, 7, 8, 3, 3, 4, 6, 6, 5, 0, 0, 2, 6, 7, 9, 8, 1, 8, 8, 4, 9, 0, 0, 5, 9, 0, 3, 3, 0, 6, 2, 1, 3, 9, 7, 3, 5, 4, 0, 4, 0, 0, 1, 3, 7, 2, 1, 2, 0, 9, 4, 5, 1, 3, 0, 7, 4, 2, 8, 8, 5, 8, 3, 8, 1, 5, 3, 8, 4, 7, 1, 0, 7, 1, 1, 1, 4, 4, 4, 2, 0, 5, 2, 5, 7, 5, 2, 6, 7, 6, 0, 9, 3, 5, 0, 4, 4, 9, 1, 8, 1, 0, 3, 4, 7, 6, 6, 7, 4, 3, 8, 0, 7, 0, 7, 8, 3, 4, 1, 7, 8, 5, 1, 6, 3, 4, 4, 3, 8, 6, 4, 1, 5, 4, 7, 9, 8, 2, 7, 2, 6, 0, 7, 7, 6, 2, 2, 2, 4, 2, 4, 2, 3, 2, 0, 3, 5, 0, 8, 0, 8, 0, 6, 7, 8, 2, 1, 6, 0, 5, 1, 8, 3, 6, 5, 2, 2, 2, 1, 0, 6, 7, 5, 6, 4, 7, 7, 2, 2, 0, 5, 5, 4, 0, 6, 4, 2, 6, 7, 7, 2, 7, 3, 8, 0, 4, 6, 2, 0, 4, 5, 8, 0, 5, 7, 8, 6, 8, 3, 6, 3, 1, 8, 6, 9, 3, 2, 8, 5, 3, 9, 0, 3, 9, 3, 0, 6, 2, 1, 2, 5, 9, 8, 5, 1, 2, 9, 1, 9, 2, 0, 2, 8, 1, 7, 7, 8, 3, 2, 4, 0, 0, 3, 8, 7, 7, 9, 9, 9, 5, 2, 3, 4, 6, 7, 6, 8, 2, 6, 2, 8, 8, 1, 5, 2, 0, 3, 7, 4, 6, 6, 1, 5, 0, 6, 8, 7, 1, 9, 6, 3, 9, 0, 8, 4, 0, 2, 0, 0, 8, 4, 2, 8, 2, 7, 5, 3, 6, 4, 5, 5, 6, 0, 7, 0, 6, 7, 7, 5, 4, 5, 1, 9, 1, 2, 3, 0, 8, 9, 1, 2, 8, 4, 9, 0, 8, 9, 9, 5, 6, 5, 2, 4, 3, 9, 9, 9, 5, 8, 1, 7, 7, 1, 5, 6, 0, 4, 4, 6, 1, 2, 7, 7, 0, 2, 9, 6, 7, 8, 1, 4, 8, 1, 9, 0, 9, 0, 7, 5, 1, 4, 1, 8, 9, 1, 8, 8, 1, 9, 5, 3, 9, 3, 6, 8, 4, 4, 1, 2, 5, 1, 6, 3, 3, 4, 7, 7, 7, 0, 5, 5, 3, 7, 3, 1, 0, 7, 0, 2, 8, 5, 0, 3, 8, 9, 6, 5, 5, 8, 3, 1, 7, 5, 2, 0, 8, 0, 6, 5, 4, 9, 2, 7, 3, 2, 0, 9, 0, 4, 3, 6, 5, 8, 4, 6, 9, 1, 8, 9, 5, 7, 2, 7, 0, 2, 9, 6, 1, 6, 8, 0, 1, 0, 1, 2, 0, 7, 2, 2, 7, 3, 9, 6, 1, 6, 9, 1, 1, 7, 5, 0, 9, 3, 3, 7, 1, 5, 0, 7, 9, 8, 0, 1, 5, 2, 2, 3, 9, 9, 5, 7, 8, 8, 4, 5, 2, 2, 2, 0, 2, 6, 6, 3, 3, 9, 9, 0, 5, 4, 2, 0, 6, 3, 3, 0, 2, 3, 5, 3, 7, 1, 9, 1, 6, 9, 3, 3, 9, 3, 8, 3, 7, 4, 3, 6, 4, 5, 1, 1, 6, 3, 7, 6, 9, 2, 7, 2, 3, 8, 8, 3, 8, 4, 4, 4, 3, 9, 5, 1, 8, 7, 5, 6, 2, 4, 1, 1, 3, 9, 0, 7, 0, 7, 5, 8, 3, 6, 7, 1, 8, 7, 4, 3, 8, 0, 4, 1, 0, 0, 7, 7, 5, 0, 6, 1, 7, 7, 2, 1, 3, 1, 0, 4, 9, 9, 9, 9, 1, 8, 8, 6, 1, 9, 4, 2, 5, 8, 8, 2, 5, 6, 7, 3, 2, 3, 3, 6, 9, 1, 4, 1, 5, 5, 0, 4, 8, 5, 7, 2, 5, 8, 6, 3, 2, 3, 0, 4, 1, 6, 1, 2, 5, 3, 5, 1, 3, 4, 7, 9, 8, 9, 1, 2, 0, 7, 1, 7, 5, 3, 6, 8, 4, 3, 1, 9, 8, 7, 2, 7, 1, 4, 2, 5, 8, 6, 7, 5, 8, 8, 1, 6, 4, 1, 6, 6, 4, 4, 6, 2, 3, 2, 8, 0, 4, 9, 3, 4, 7, 3, 1, 1, 7, 1, 8, 5, 3, 9, 6, 2, 3, 3, 9, 1, 6, 8, 8, 6, 0, 6, 2, 6, 4, 2, 7, 6, 0, 8, 6, 8, 0, 0, 4, 5, 5, 5, 4, 3, 4, 3, 1, 7, 0, 4, 9, 6, 2, 3, 1, 5, 0, 8, 8, 4, 9, 4, 5, 8, 0, 0, 7, 4, 7, 2, 5, 1, 6, 4, 6, 9, 1, 8, 8, 1, 9, 1, 0, 3, 4, 9, 0, 1, 0, 2, 5, 0, 3, 0, 8, 5, 5, 4, 6, 8, 2, 3, 1, 7, 8, 2, 0, 9, 3, 9, 0, 9, 7, 5, 8, 8, 8, 3, 4, 5, 8, 5, 2, 4, 4, 2, 2, 8, 6, 0, 4, 5, 2, 1, 8, 9, 4, 8, 8, 6, 3, 5, 2, 5, 0, 8, 6, 1, 9, 4, 1, 2, 7, 2, 0, 0, 1, 1, 1, 9, 8, 4, 4, 1, 2, 4, 0, 8, 4, 1, 4, 0, 0, 8, 3, 2, 9, 2, 6, 7, 6, 5, 4, 9, 0, 6, 9, 1, 9, 0, 1, 9, 7, 8, 5, 7, 9, 4, 5, 1, 1, 4, 0, 9, 7, 1, 5, 0, 5, 9, 8, 2, 5, 3, 8, 7, 0, 0, 0, 4, 3, 1, 7, 1, 6, 5, 2, 1, 4, 2, 0, 2, 5, 9, 4, 6, 3, 9, 4, 3, 5, 6, 5, 6, 4, 8, 4, 4, 6, 1, 3, 0, 0, 3, 3, 4, 0, 5, 8, 9, 2, 6, 1, 7, 4, 0, 1, 8, 1, 7, 8, 8, 6, 4, 4, 8, 8, 3, 7, 3, 6, 8, 5, 1, 5, 0, 9, 6, 9, 1, 9, 9, 6, 5, 6, 1, 7, 0, 0, 6, 1, 2, 0, 4, 9, 0, 7, 8, 8, 3, 5, 2, 8, 4, 7, 9, 7, 6, 2, 3, 4, 3, 3, 8, 9, 1, 4, 4, 2, 6, 4, 5, 7, 4, 8, 0, 8, 2, 5, 2, 1, 6, 2, 1, 5, 7, 9, 1, 0, 6, 9, 3, 9, 5, 6, 5, 4, 4, 4, 6, 2, 8, 7, 0, 1, 2, 8, 5, 8, 5, 0, 8, 0, 8, 3, 7, 3, 9, 0, 7, 5, 5, 4, 5, 3, 9, 1, 4, 1, 4, 7, 6, 1, 9, 9, 8, 1, 1, 9, 9, 0, 3, 8, 0, 8, 9, 2, 7, 3, 4, 5, 8, 5, 5, 4, 5, 6, 1, 5, 8, 1, 2, 9, 1, 1, 8, 2, 7, 0, 1, 9, 3, 1, 8, 1, 5, 1, 8, 5, 7, 9, 6, 3, 6, 9, 0, 6, 6, 4, 5, 7, 1, 9, 3, 8, 8, 3, 3, 0, 7, 0, 5, 5, 0, 2, 6, 9, 1, 3, 9, 2, 6, 0, 6, 9, 3, 2, 9, 4, 5, 6, 0, 0, 4, 5, 6, 5, 1, 0, 5, 3, 7, 9, 1, 1, 0, 8, 7, 9, 1, 1, 8, 8, 1, 3, 5, 2, 5, 8, 3, 9, 7, 3, 5, 3, 5, 8, 6, 2, 1, 0, 5, 5, 8, 6, 0, 1, 4, 8, 4, 8, 3, 8, 7, 8, 1, 8, 4, 2, 2, 0, 1, 7, 2, 1, 4, 3, 2, 9, 5, 8, 9, 1, 5, 9, 1, 4, 6, 4, 8, 6, 3, 8, 6, 8, 8, 1, 4, 2, 0, 5, 4, 1, 1, 3, 2, 3, 2, 8, 0, 6, 1, 4, 8, 0, 3, 3, 1, 3, 2, 6, 7, 8, 7, 7, 0, 6, 1, 7, 6, 2, 0, 1, 0, 5, 6, 6, 9, 6, 4, 3, 6, 2, 6, 4, 4, 4, 6, 0, 8, 6, 9, 0, 9, 2, 9, 6, 2, 5, 7, 6, 4, 9, 9, 4, 2, 7, 5, 8, 1, 2, 0, 1, 2, 9, 7, 0, 6, 3, 2, 6, 9, 2, 1, 8, 3, 7, 4, 8, 1, 0, 5, 5, 6, 2, 1, 6, 1, 8, 5, 1, 3, 2, 9, 6, 0, 5, 8, 6, 5, 4, 2, 0, 6, 8, 7, 8, 5, 7, 0, 3, 1, 1, 5, 0, 6, 0, 8, 1, 6, 1, 4, 8, 4, 1, 6, 8, 8, 7, 8, 1, 7, 8, 5, 1, 7, 8, 1, 6, 9, 7, 7, 2, 3, 8, 1, 0, 1, 5, 1, 1, 9, 2, 1, 9, 9, 0, 7, 1, 5, 1, 5, 1, 5, 2, 9, 4, 9, 1, 9, 1, 3, 5, 8, 4, 0, 8, 8, 9, 8, 5, 1, 1, 9, 2, 7, 9, 2, 8, 4, 6, 3, 4, 4, 1, 9, 6, 4, 7, 9, 1, 3, 6, 8, 1, 7, 7, 9, 1, 1, 6, 1, 1, 6, 3, 3, 3, 5, 5, 0, 1, 2, 8, 4, 1, 8, 7, 9, 9, 3, 3, 7, 3, 4, 6, 2, 8, 9, 2, 4, 6, 5, 7, 2, 3, 8, 0, 4, 6, 3, 2, 6, 5, 2, 2, 9, 8, 8, 7, 7, 9, 0, 9, 1, 8, 8, 8, 5, 2, 9, 2, 7, 0, 8, 3, 4, 1, 0, 4, 7, 6, 1, 4, 1, 7, 3, 5, 1, 7, 1, 6, 8, 9, 1, 8, 2, 5, 0, 7, 7, 9, 7, 4, 2, 6, 7, 2, 6, 6, 6, 4, 3, 3, 1, 4, 8, 8, 3, 5, 4, 0, 5, 6, 1, 6, 2, 5, 1, 2, 0, 0, 1, 3, 9, 0, 7, 7, 2, 4, 2, 3, 1, 8, 7, 9, 5, 0, 3, 8, 6, 5, 0, 9, 7, 0, 6, 2, 2, 0, 0, 7, 4, 4, 2, 3, 7, 1, 7, 8, 3, 5, 5, 3, 9, 4, 5, 5, 9, 9, 0, 7, 2, 9, 9, 3, 2, 8, 3, 9, 6, 7, 2, 3, 4, 4, 4, 9, 6, 5, 5, 6, 6, 7, 1, 1, 7, 0, 2, 9, 4, 3, 8, 0, 5, 5, 5, 7, 3, 0, 2, 4, 6, 4, 6, 3, 0, 8, 5, 6, 0, 7, 0, 1, 1, 8, 7, 4, 3, 0, 8, 1, 1, 6, 9, 6, 5, 0, 5, 5, 0, 5, 6, 8, 1, 8, 2, 9, 1, 6, 3, 2, 4, 0, 1, 2, 4, 1, 1, 1, 4, 6, 2, 6, 5, 7, 7, 6, 0, 1, 7, 2, 4, 8, 8, 4, 2, 6, 9, 9, 6, 6, 5, 7, 8, 4, 7, 3, 8, 0, 3, 2, 4, 4, 3, 6, 3, 7, 4, 9, 8, 4, 2, 1, 6, 2, 9, 3, 4, 1, 8, 1, 8, 4, 8, 8, 7, 8, 9, 6, 3, 0, 7, 7, 4, 9, 9, 5, 2, 1, 4, 4, 1, 4, 8, 7, 6, 1, 6, 4, 8, 7, 6, 2, 0, 8, 6, 9, 5, 5, 3, 1, 4, 1, 6, 5, 8, 4, 1, 4, 6, 8, 6, 3, 7, 9, 1, 8, 9, 8, 1, 6, 5, 8, 1, 7, 5, 2, 4, 9, 1, 5, 7, 8, 6, 4, 2, 8, 9, 4, 0, 1, 6, 7, 1, 1, 6, 1, 2, 8, 5, 1, 6, 0, 3, 9, 2, 3, 0, 3, 1, 2, 8, 7, 8, 1, 0, 2, 6, 7, 3, 6, 3, 6, 3, 6, 2, 7, 4, 3, 9, 3, 6, 8, 9, 4, 6, 9, 1, 6, 6, 4, 8, 5, 8, 0, 3, 4, 2, 7, 8, 1, 9, 9, 1, 2, 3, 5, 4, 4, 8, 8, 5, 2, 1, 1, 9, 1, 9, 2, 4, 1, 6, 6, 7, 2, 4, 0, 2, 6, 5, 4, 1, 3, 2, 1, 3, 5, 3, 7, 0, 3, 7, 7, 4, 6, 5, 4, 7, 5, 4, 6, 1, 1, 4, 1, 3, 4, 3, 5, 8, 7, 8, 7, 6, 8, 2, 6, 3, 5, 6, 4, 0, 0, 5, 6, 0, 7, 6, 1, 8, 4, 0, 1, 5, 4, 2, 1, 3, 9, 7, 4, 7, 7, 5, 3, 0, 5, 7, 3, 8, 8, 8, 8, 0, 0, 5, 5, 0, 3, 0, 4, 6, 3, 0, 3, 9, 8, 3, 9, 7, 6, 1, 6, 8, 2, 4, 8, 6, 1, 0, 8, 2, 9, 2, 6, 0, 3, 3, 3, 6, 3, 4, 2, 5, 0, 9, 9, 2, 0, 6, 4, 9, 8, 9, 8, 7, 3, 0, 1, 6, 5, 2, 3, 7, 6, 7, 2, 3, 5, 5, 3, 7, 0, 8, 9, 8, 3, 2, 4, 1, 0, 7, 1, 7, 4, 4, 0, 2, 0, 7, 8, 3, 2, 9, 3, 1, 9, 4, 8, 8, 3, 9, 7, 6, 2, 9, 9, 5, 5, 8, 6, 1, 6, 9, 0, 3, 5, 8, 1, 6, 8, 5, 9, 2, 8, 7, 2, 5, 9, 4, 6, 3, 8, 5, 6, 8, 0, 0, 3, 0, 2, 8, 9, 4, 6, 2, 1, 2, 7, 1, 3, 8, 5, 5, 7, 5, 4, 8, 7, 1, 8, 5, 8, 9, 9, 2, 6, 5, 5, 3, 1, 5, 5, 1, 5, 8, 7, 8, 8, 7, 0, 1, 0, 2, 6, 8, 8, 6, 6, 1, 3, 7, 4, 6, 1, 7, 6, 5, 5, 4, 5, 3, 9, 9, 2, 8, 9, 1, 7, 9, 7, 5, 4, 4, 0, 9, 4, 4, 6, 2, 9, 3, 7, 9, 3, 0, 0, 6, 4, 6, 4, 7, 0, 1, 9, 7, 4, 6, 1, 7, 0, 8, 2, 4, 0, 3, 9, 8, 2, 0, 3, 0, 5, 3, 7, 4, 7, 8, 6, 4, 7, 8, 3, 6, 2, 9, 2, 5, 6, 4, 5, 4, 0, 2, 1, 2, 4, 4, 3, 8, 0, 1, 0, 0, 1, 5, 6, 8, 1, 4, 9, 4, 4, 4, 8, 8, 6, 3, 4, 6, 7, 8, 8, 0, 8, 5, 4, 0, 7, 5, 1, 7, 8, 4, 2, 6, 7, 0, 2, 1, 4, 1, 6, 3, 9, 3, 1, 9, 5, 4, 2, 1, 6, 7, 0, 5, 6, 3, 8, 8, 9, 1, 5, 6, 7, 6, 6, 5, 9, 8, 0, 9, 3, 4, 6, 6, 4, 5, 5, 1, 1, 3, 2, 0, 5, 7, 0, 2, 7, 3, 6, 8, 1, 6, 2, 0, 0, 1, 8, 5, 3, 4, 1, 4, 1, 2, 2, 3, 3, 3, 2, 0, 5, 5, 9, 2, 9, 7, 0, 5, 5, 8, 8, 2, 7, 0, 6, 0, 9, 3, 6, 0, 0, 0, 5, 1, 4, 0, 6, 0, 6, 8, 4, 4, 8, 2, 5, 3, 9, 7, 0, 2, 8, 9, 1, 1, 4, 5, 2, 2, 3, 7, 5, 2, 3, 8, 4, 7, 8, 7, 9, 9, 0, 6, 9, 1, 2, 1, 8, 9, 6, 7, 5, 9, 7, 9, 8, 2, 5, 4, 5, 0, 3, 3, 2, 7, 0, 1, 7, 5, 1, 2, 7, 9, 0, 2, 4, 5, 3, 8, 2, 5, 2, 3, 3, 6, 6, 4, 4, 0, 5, 2, 6, 8, 1, 0, 1, 1, 5, 2, 6, 6, 1, 9, 9, 4, 8, 8, 4, 5, 8, 2, 5, 3, 0, 6, 4, 2, 2, 4, 8, 2, 2, 8, 5, 5, 4, 8, 1, 6, 6, 9, 3, 9, 1, 5, 3, 0, 0, 8, 3, 0, 1, 1, 9, 4, 1, 3, 4, 3, 1, 8, 6, 8, 0, 7, 6, 2, 7, 0, 0, 4, 1, 2, 3, 1, 4, 6, 3, 8, 6, 7, 5, 8, 8, 3, 3, 3, 8, 4, 8, 0, 3, 2, 2, 9, 8, 9, 6, 4, 6, 3, 8, 2, 0, 9, 2, 1, 7, 4, 0, 1, 4, 1, 3, 9, 3, 0, 1, 5, 1, 9, 8, 7, 5, 5, 2, 9, 5, 4, 7, 1, 6, 2, 1, 1, 7, 0, 0, 6, 8, 8, 8, 6, 6, 9, 8, 9, 0, 0, 7, 9, 9, 5, 9, 4, 5, 1, 8, 6, 8, 1, 4, 9, 8, 2, 9, 6, 2, 4, 0, 2, 9, 7, 9, 6, 1, 3, 5, 6, 6, 4, 0, 4, 8, 9, 5, 7, 4, 4, 8, 8, 9, 1, 9, 7, 8, 2, 0, 9, 2, 0, 9, 8, 6, 0, 6, 5, 3, 0, 3, 9, 5, 2, 1, 8, 0, 9, 9, 9, 0, 5, 2, 2, 1, 1, 1, 8, 4, 6, 7, 6, 6, 4, 9, 6, 9, 8, 8, 5, 7, 0, 9, 2, 9, 2, 1, 4, 9, 0, 2, 0, 0, 8, 0, 1, 8, 1, 3, 4, 6, 5, 9, 9, 4, 0, 3, 0, 4, 3, 4, 9, 0, 6, 1, 2, 2, 4, 7, 5, 0, 3, 6, 9, 7, 9, 5, 3, 2, 2, 5, 1, 8, 9, 2, 9, 6, 1, 3, 9, 3, 9, 3, 1, 7, 5, 3, 3, 7, 4, 6, 6, 6, 9, 0, 8, 3, 7, 8, 5, 2, 2, 3, 2, 2, 8, 6, 0, 1, 0, 0, 8, 7, 6, 5, 4, 9, 6, 5, 3, 1, 7, 0, 5, 3, 4, 7, 5, 4, 7, 0, 9, 7, 3, 1, 2, 3, 9, 5, 7, 3, 4, 1, 5, 6, 0, 5, 6, 4, 1, 7, 7, 4, 0, 0, 1, 8, 5, 8, 6, 0, 0, 3, 9, 7, 6, 2, 7, 8, 5, 3, 0, 4, 7, 8, 5, 1, 2, 3, 2, 7, 2, 7, 5, 8, 2, 5, 8, 4, 6, 1, 2, 1, 1, 0, 9, 3, 8, 4, 8, 8, 0, 2, 1, 4, 6, 9, 9, 1, 4, 0, 4, 8, 4, 9, 3, 4, 7, 1, 3, 1, 5, 3, 7, 7, 4, 8, 9, 2, 8, 5, 6, 9, 3, 7, 0, 3, 4, 3, 5, 4, 0, 0, 9, 1, 4, 4, 8, 6, 2, 4, 9, 1, 8, 4, 6, 3, 3, 0, 9, 4, 9, 1, 5, 7, 4, 7, 4, 7, 9, 7, 8, 5, 9, 2, 1, 6, 0, 0, 9, 5, 6, 5, 5, 5, 3, 3, 6, 6, 7, 8, 2, 6, 9, 5, 6, 2, 9, 7, 1, 5, 2, 8, 8, 3, 7, 6, 9, 9, 4, 5, 4, 5, 1, 7, 1, 2, 7, 4, 3, 4, 7, 9, 1, 4, 3, 3, 9, 0, 6, 9, 6, 3, 1, 3, 1, 7, 8, 2, 3, 1, 5, 9, 3, 8, 5, 4, 0, 7, 9, 4, 0, 1, 2, 6, 0, 1, 5, 5, 9, 4, 2, 5, 8, 8, 5, 0, 0, 0, 0, 9, 0, 2, 4, 6, 2, 9, 2, 4, 8, 9, 0, 3, 1, 5, 6, 7, 3, 1, 5, 8, 9, 0, 3, 8, 1, 1, 6, 1, 3, 4, 7, 1, 0, 9, 3, 5, 9, 6, 2, 0, 1, 3, 8, 0, 5, 3, 0, 3, 7, 5, 7, 1, 9, 6, 5, 5, 8, 0, 0, 9, 4, 9, 3, 6, 4, 9, 3, 0, 5, 5, 4, 2, 6, 0, 0, 1, 7, 4, 9, 2, 5, 0, 3, 6, 1, 3, 6, 5, 3, 2, 3, 9, 8, 5, 3, 4, 6, 8, 1, 5, 5, 2, 0, 7, 6, 3, 6, 6, 5, 8, 2, 9, 4, 2, 7, 8, 0, 2, 3, 2, 1, 1, 7, 9, 7, 8, 4, 6, 8, 1, 6, 3, 7, 8, 5, 0, 0, 9, 3, 3, 8, 8, 4, 3, 1, 8, 7, 3, 8, 7, 2, 5, 0, 2, 0, 1, 6, 0, 0, 5, 6, 9, 8, 4, 5, 4, 7, 7, 7, 6, 7, 2, 8, 6, 9, 4, 1, 2, 1, 5, 9, 6, 8, 6, 5, 4, 7, 3, 3, 0, 2, 4, 5, 9, 9, 0, 1, 3, 0, 2, 1, 8, 9, 1, 5, 7, 6, 4, 7, 1, 2, 7, 5, 1, 4, 5, 7, 0, 7, 0, 0, 5, 8, 1, 7, 1, 1, 3, 4, 6, 2, 5, 9, 5, 2, 8, 2, 2, 0, 7, 7, 2, 3, 2, 1, 5, 2, 4, 9, 3, 7, 9, 2, 9, 0, 4, 8, 7, 5, 0, 9, 3, 8, 9, 4, 7, 2, 6, 1, 9, 5, 2, 8, 2, 2, 9, 3, 8, 2, 9, 1, 7, 2, 3, 1, 2, 7, 1, 9, 7, 1, 4, 7, 5, 5, 1, 3, 9, 1, 1, 2, 4, 2, 7, 9, 7, 4, 3, 5, 5, 4, 3, 1, 4, 7, 6, 5, 2, 2, 6, 7, 7, 7, 8, 7, 4, 2, 4, 1, 0, 8, 5, 1, 9, 7, 3, 6, 0, 9, 4, 1, 2, 2, 6, 1, 2, 4, 2, 1, 4, 7, 5, 0, 9, 5, 5, 1, 0, 7, 3, 2, 5, 1, 5, 1, 5, 3, 1, 0, 9, 2, 2, 7, 6, 1, 2, 4, 8, 6, 8, 1, 4, 3, 0, 2, 6, 0, 3, 6, 5, 4, 5, 6, 9, 6, 2, 4, 5, 5, 2, 9, 3, 6, 0, 7, 0, 8, 7, 3, 4, 9, 3, 4, 5, 5, 7, 7, 3, 0, 6, 7, 4, 6, 0, 8, 4, 9, 5, 1, 7, 5, 5, 2, 5, 6, 0, 4, 7, 8, 5, 1, 5, 8, 0, 6, 7, 7, 5, 9, 6, 1, 1, 0, 5, 8, 8, 5, 1, 4, 0, 7, 8, 4, 5, 9, 9, 1, 2, 8, 1, 3, 9, 4, 6, 7, 0, 0, 4, 5, 8, 8, 7, 7, 0, 0, 4, 6, 1, 8, 3, 1, 2, 6, 4, 9, 9, 9, 6, 6, 0, 1, 0, 0, 3, 8, 1, 7, 0, 5, 4, 8, 7, 3, 9, 8, 2, 4, 7, 6, 6, 4, 8, 6, 8, 4, 4, 4, 8, 4, 7, 4, 9, 4, 2, 3, 6, 0, 8, 5, 6, 7, 6, 9, 7, 0, 9, 1, 4, 4, 3, 0, 2, 0, 2, 6, 8, 9, 2, 5, 5, 4, 7, 5, 4, 3, 9, 3, 1, 4, 6, 5, 3, 2, 9, 0, 3, 1, 3, 2, 9, 0, 4, 5, 1, 3, 4, 0, 6, 4, 1, 0, 1, 6, 7, 5, 9, 5, 7, 5, 5, 5, 2, 0, 5, 9, 0, 0, 8, 8, 6, 3, 4, 0, 3, 3, 4, 3, 9, 0, 3, 1, 7, 6, 9, 4, 1, 9, 6, 9, 9, 4, 5, 7, 5, 6, 4, 1, 0, 3, 3, 6, 1, 2, 9, 2, 3, 7, 1, 6, 9, 3, 1, 5, 0, 2, 6, 3, 6, 4, 5, 9, 4, 9, 0, 9, 9, 3, 4, 0, 0, 8, 4, 3, 0, 9, 7, 1, 0, 5, 7, 1, 3, 7, 5, 9, 2, 1, 2, 4, 7, 5, 6, 7, 1, 0, 1, 2, 6, 9, 6, 2, 0, 7, 3, 1, 5, 8, 2, 1, 4, 1, 8, 4, 0, 1, 9, 5, 9, 7, 0, 3, 4, 7, 1, 2, 9, 5, 9, 6, 9, 0, 4, 7, 7, 4, 8, 5, 5, 1, 8, 0, 1, 3, 4, 9, 0, 7, 9, 5, 0, 3, 1, 0, 8, 5, 5, 7, 2, 5, 9, 4, 6, 6, 4, 0, 8, 0, 3, 3, 5, 0, 1, 0, 1, 3, 9, 2, 2, 8, 4, 0, 8, 6, 2, 7, 5, 2, 9, 7, 0, 3, 3, 6, 0, 8, 4, 3, 3, 1, 4, 4, 9, 9, 0, 8, 8, 1, 7, 3, 3, 1, 8, 6, 6, 8, 1, 8, 0, 4, 8, 5, 1, 7, 4, 0, 5, 6, 5, 1, 1, 4, 7, 8, 6, 6, 5, 4, 9, 1, 0, 1, 3, 4, 4, 0, 2, 0, 8, 3, 2, 7, 1, 7, 8, 0, 9, 0, 6, 4, 0, 1, 7, 7, 0, 2, 9, 1, 2, 9, 5, 7, 3, 7, 8, 8, 1, 8, 1, 4, 6, 2, 1, 0, 0, 4, 7, 7, 9, 2, 3, 1, 7, 4, 8, 5, 0, 0, 0, 3, 6, 7, 3, 1, 3, 0, 1, 0, 4, 0, 0, 8, 5, 9, 6, 8, 9, 9, 9, 8, 5, 6, 2, 8, 4, 7, 8, 7, 3, 3, 1, 6, 6, 4, 7, 5, 4, 3, 5, 4, 6, 3, 3, 5, 7, 6, 2, 3, 0, 0, 9, 3, 2, 6, 4, 7, 1, 9, 7, 4, 5, 2, 2, 0, 2, 7, 2, 7, 5, 6, 4, 2, 4, 9, 0, 6, 5, 9, 9, 4, 8, 0, 1, 1, 1, 3, 9, 8, 5, 4, 5, 5, 6, 7, 8, 8, 7, 9, 0, 0, 9, 2, 8, 0, 8, 0, 7, 9, 3, 8, 6, 1, 0, 5, 3, 0, 4, 5, 2, 8, 3, 6, 7, 3, 8, 2, 9, 8, 5, 6, 6, 9, 0, 9, 4, 9, 8, 9, 7, 2, 3, 4, 6, 6, 3, 1, 1, 5, 6, 1, 0, 4, 7, 6, 0, 6, 3, 6, 9, 0, 5, 6, 6, 7, 5, 3, 5, 3, 1, 2, 3, 7, 3, 5, 1, 8, 5, 2, 6, 8, 2, 3, 8, 3, 6, 3, 2, 5, 7, 6, 2, 7, 0, 0, 7, 4, 4, 9, 7, 5, 9, 9, 1, 1, 2, 6, 4, 5, 1, 6, 9, 4, 3, 6, 6, 0, 6, 0, 9, 6, 1, 4, 9, 6, 3, 9, 5, 9, 8, 4, 8, 3, 3, 4, 3, 5, 3, 8, 4, 1, 7, 4, 9, 9, 7, 2, 5, 9, 7, 8, 6, 6, 0, 0, 9, 7, 2, 1, 4, 2, 5, 8, 3, 0, 4, 6, 5, 0, 5, 3, 4, 0, 4, 0, 0, 6, 8, 2, 0, 9, 9, 0, 5, 5, 2, 0, 0, 7, 8, 7, 6, 2, 2, 6, 7, 9, 3, 2, 7, 7, 8, 1, 0, 9, 7, 9, 1, 6, 0, 4, 1, 3, 5, 0, 4, 2, 2, 8, 0, 1, 5, 8, 4, 6, 9, 7, 4, 8, 0, 9, 6, 1, 4, 7, 7, 8, 7, 0, 5, 3, 4, 8, 3, 7, 2, 7, 9, 9, 5, 1, 1, 2, 2, 6, 3, 2, 4, 2, 9, 1, 7, 8, 5, 3, 6, 5, 9, 5, 7, 3, 1, 4, 3, 8, 3, 1, 5, 7, 2, 4, 0, 1, 8, 4, 5, 6, 9, 9, 1, 0, 7, 2, 4, 9, 5, 9, 6, 0, 0, 2, 6, 2, 6, 7, 6, 7, 3, 4, 5, 8, 1, 3, 7, 5, 9, 9, 8, 4, 5, 8, 3, 2, 2, 8, 8, 4, 5, 9, 3, 7, 8, 8, 1, 9, 0, 0, 8, 3, 2, 7, 2, 1, 5, 0, 3, 1, 2, 6, 5, 4, 6, 1, 0, 2, 5, 3, 5, 3, 4, 9, 6, 4, 9, 4, 4, 4, 9, 9, 6, 8, 9, 9, 0, 3, 7, 6, 3, 7, 8, 5, 7, 9, 3, 2, 8, 8, 8, 3, 6, 3, 7, 0, 6, 5, 6, 8, 4, 4, 9, 7, 2, 6, 5, 0, 1, 9, 7, 1, 5, 6, 4, 6, 2, 6, 2, 2, 7, 5, 8, 5, 2, 7, 1, 3, 3, 1, 5, 1, 4, 9, 7, 9, 0, 2, 3, 7, 0, 9, 6, 3, 2, 2, 0, 1, 4, 7, 5, 8, 1, 6, 3, 6, 6, 2, 4, 4, 2, 7, 2, 7, 2, 7, 0, 4, 9, 0, 3, 0, 0, 6, 1, 8, 1, 0, 0, 9, 5, 9, 1, 7, 8, 1, 8, 7, 9, 2, 3, 9, 6, 8, 1, 1, 0, 0, 5, 4, 1, 9, 8, 1, 2, 4, 6, 8, 1, 1, 2, 1, 9, 2, 6, 4, 4, 3, 6, 0, 1, 5, 7, 3, 3, 7, 1, 1, 7, 6, 8, 0, 7, 9, 7, 4, 8, 9, 3, 5, 3, 5, 2, 8, 1, 3, 3, 6, 7, 4, 1, 9, 4, 7, 4, 2, 5, 1, 0, 0, 6, 9, 8, 6, 8, 0, 2, 8, 1, 7, 2, 7, 5, 5, 5, 0, 4, 7, 5, 9, 6, 4, 1, 9, 7, 2, 9, 7, 8, 5, 8, 4, 3, 8, 8, 7, 4, 2, 2, 9, 3, 2, 9, 7, 7, 4, 5, 1, 1, 7, 2, 1, 5, 9, 9, 6, 3, 5, 9, 7, 5, 0, 8, 8, 7, 3, 0, 5, 2, 1, 8, 4, 1, 5, 5, 5, 1, 4, 5, 1, 2, 2, 6, 5, 3, 8, 8, 2, 7, 6, 5, 0, 7, 2, 6, 6, 5, 4, 4, 2, 2, 9, 0, 8, 4, 8, 9, 8, 3, 1, 7, 8, 5, 5, 4, 2, 6, 4, 6, 9, 1, 6, 3, 0, 9, 6, 1, 8, 9, 7, 0, 6, 9, 3, 2, 1, 2, 0, 3, 4, 6, 7, 9, 7, 0, 5, 9, 4, 2, 7, 0, 6, 0, 7, 6, 2, 9, 9, 0, 1, 4, 0, 7, 7, 1, 5, 5, 4, 7, 3, 0, 1, 1, 7, 9, 6, 3, 9, 5, 5, 6, 9, 3, 3, 1, 5, 2, 0, 3, 1, 1, 2, 9, 1, 9, 3, 8, 4, 6, 0, 2, 6, 7, 3, 4, 3, 7, 0, 6, 5, 0, 2, 8, 4, 0, 2, 4, 1, 2, 6, 0, 3, 0, 0, 2, 8, 9, 0, 1, 2, 9, 3, 0, 0, 5, 1, 6, 7, 1, 4, 9, 5, 6, 7, 0, 1, 7, 9, 3, 5, 5, 3, 8, 3, 5, 8, 5, 0, 8, 6, 7, 5, 5, 9, 4, 9, 4, 3, 4, 7, 7, 4, 1, 6, 2, 2, 1, 0, 1, 9, 1, 9, 9, 5, 5, 7, 9, 0, 5, 7, 0, 1, 9, 1, 8, 9, 1, 5, 4, 9, 9, 2, 1, 5, 8, 0, 7, 6, 0, 3, 7, 7, 0, 6, 8, 0, 6, 8, 8, 0, 0, 5, 8, 8, 1, 1, 9, 9, 1, 8, 1, 8, 3, 5, 1, 6, 5, 1, 6, 4, 0, 8, 4, 4, 5, 2, 3, 5, 9, 0, 0, 7, 9, 0, 2, 2, 1, 7, 6, 9, 8, 6, 4, 7, 3, 0, 4, 2, 6, 4, 5, 0, 8, 2, 3, 5, 1, 7, 9, 7, 1, 0, 8, 8, 4, 6, 2, 6, 5, 4, 5, 2, 1, 2, 5, 4, 2, 1, 1, 3, 0, 6, 9, 1, 4, 5, 6, 5, 5, 8, 6, 7, 6, 2, 1, 3, 7, 1, 6, 4, 8, 0, 0, 5, 3, 1, 8, 6, 8, 0, 0, 9, 5, 9, 5, 5, 8, 3, 7, 7, 1, 4, 9, 7, 5, 0, 5, 8, 4, 1, 7, 8, 7, 6, 5, 1, 3, 0, 8, 1, 7, 5, 8, 0, 4, 9, 6, 2, 4, 2, 5, 4, 6, 1, 9, 4, 8, 6, 0, 7, 3, 6, 0, 4, 7, 5, 5, 7, 8, 1, 9, 2, 5, 0, 0, 2, 2, 1, 5, 0, 2, 0, 5, 8, 2, 2, 6, 1, 0, 7, 4, 5, 7, 4, 1, 2, 2, 2, 3, 1, 6, 8, 5, 0, 0, 0, 3, 4, 0, 2, 7, 3, 6, 1, 6, 6, 9, 9, 5, 6, 5, 9, 7, 0, 6, 2, 2, 6, 6, 1, 9, 4, 7, 7, 9, 9, 7, 2, 5, 1, 6, 5, 9, 8, 4, 7, 0, 3, 0, 0, 6, 7, 9, 1, 9, 2, 0, 5, 3, 8, 0, 1, 2, 8, 3, 0, 5, 8, 4, 4, 7, 4, 1, 5, 6, 7, 2, 4, 5, 4, 7, 2, 0, 3, 8, 3, 4, 0, 8, 0, 0, 1, 7, 3, 7, 6, 3, 8, 7, 2, 9, 2, 9, 4, 2, 2, 6, 1, 5, 5, 3, 1, 9, 9, 0, 7, 3, 1, 0, 0, 1, 0, 1, 8, 7, 7, 0, 7, 0, 8, 6, 0, 6, 5, 9, 7, 0, 6, 6, 9, 6, 0, 5, 7, 6, 5, 7, 0, 5, 6, 5, 1, 0, 4, 9, 4, 1, 1, 5, 2, 5, 7, 5, 6, 5, 3, 7, 2, 2, 0, 6, 1, 3, 7, 6, 8, 4, 4, 6, 8, 5, 4, 2, 2, 0, 6, 7, 6, 8, 1, 7, 9, 3, 2, 3, 1, 0, 8, 4, 1, 2, 3, 3, 2, 9, 9, 5, 4, 7, 4, 6, 0, 0, 5, 5, 1, 6, 0, 0, 3, 2, 5, 0, 0, 7, 3, 4, 8, 5, 0, 6, 8, 1, 5, 1, 2, 3, 4, 7, 4, 2, 5, 8, 9, 4, 9, 6, 0, 9, 2, 9, 9, 1, 5, 3, 9, 2, 5, 2, 1, 2, 9, 6, 8, 7, 1, 8, 1, 1, 5, 0, 1, 3, 3, 8, 4, 2, 3, 2, 1, 0, 7, 0, 6, 8, 5, 5, 6, 0, 6, 3, 6, 3, 9, 1, 6, 2, 2, 2, 1, 4, 6, 5, 5, 8, 8, 6, 1, 6, 6, 1, 8, 2, 5, 7, 3, 5, 3, 2, 1, 9, 2, 7, 4, 2, 3, 3, 1, 9, 6, 2, 8, 5, 6, 4, 5, 1, 0, 5, 0, 3, 7, 7, 8, 9, 7, 2, 2, 5, 2, 1, 3, 6, 9, 8, 1, 2, 8, 0, 6, 8, 2, 9, 9, 6, 1, 8, 0, 7, 7, 7, 1, 6, 6, 7, 1, 8, 9, 8, 4, 7, 5, 8, 9, 4, 2, 8, 2, 6, 0, 9, 2, 7, 4, 6, 9, 8, 9, 1, 5, 7, 3, 1, 2, 5, 1, 9, 9, 9, 0, 7, 5, 3, 0, 0, 5, 7, 3, 6, 2, 0, 8, 1, 3, 5, 7, 7, 4, 5, 3, 3, 2, 2, 0, 4, 4, 7, 7, 3, 3, 8, 7, 7, 3, 0, 8, 9, 1, 1, 6, 9, 6, 8, 8, 9, 9, 2, 1, 6, 5, 9, 2, 7, 8, 1, 4, 8, 5, 8, 6, 8, 2, 0, 2, 9, 3, 2, 7, 4, 8, 7, 0, 6, 5, 0, 5, 3, 7, 3, 0, 5, 8, 7, 1, 2, 8, 9, 8, 4, 0, 9, 1, 7, 5, 2, 8, 8, 7, 5, 3, 8, 1, 3, 3, 1, 5, 8, 8, 9, 3, 7, 5, 8, 8, 3, 3, 4, 5, 4, 6, 5, 5, 0, 4, 9, 9, 9, 0, 7, 5, 7, 4, 5, 0, 4, 8, 3, 7, 5, 5, 3, 5, 4, 1, 0, 4, 0, 8, 4, 3, 1, 7, 7, 6, 6, 6, 1, 0, 1, 8, 3, 6, 2, 1, 2, 1, 8, 1, 3, 7, 2, 5, 0, 2, 2, 3, 2, 7, 0, 6, 8, 4, 3, 3, 6, 7, 2, 9, 7, 3, 9, 0, 0, 2, 7, 2, 2, 4, 7, 3, 1, 5, 9, 6, 8, 2, 6, 8, 2, 0, 0, 2, 3, 0, 6, 9, 5, 5, 7, 0, 1, 9, 0, 5, 4, 2, 8, 5, 5, 2, 0, 3, 2, 8, 5, 4, 5, 3, 4, 9, 2, 9, 2, 7, 1, 6, 3, 6, 4, 0, 4, 2, 6, 1, 4, 7, 1, 7, 5, 6, 8, 4, 9, 8, 1, 1, 1, 6, 8, 4, 9, 7, 8, 0, 6, 4, 0, 0, 7, 2, 5, 5, 8, 9, 4, 9, 7, 0, 5, 8, 7, 6, 3, 6, 9, 3, 5, 5, 0, 5, 6, 0, 4, 8, 6, 4, 2, 3, 9, 3, 6, 4, 7, 9, 0, 1, 1, 0, 8, 8, 6, 4, 2, 7, 2, 6, 5, 5, 2, 0, 3, 0, 2, 6, 6, 5, 5, 7, 0, 0, 7, 7, 8, 6, 8, 2, 3, 9, 9, 0, 9, 6, 6, 4, 6, 3, 6, 0, 8, 6, 8, 6, 5, 0, 4, 3, 3, 1, 0, 6, 8, 2, 1, 7, 4, 5, 2, 1, 1, 4, 9, 0, 5, 7, 9, 0, 6, 9, 8, 1, 1, 2, 5, 9, 1, 1, 5, 6, 3, 9, 3, 6, 0, 1, 5, 6, 5, 0, 0, 8, 6, 5, 9, 7, 5, 4, 7, 2, 1, 6, 4, 4, 0, 4, 9, 7, 3, 3, 1, 3, 1, 8, 6, 2, 2, 1, 3, 1, 7, 1, 2, 5, 3, 2, 1, 8, 9, 7, 1, 9, 1, 7, 2, 9, 9, 9, 7, 1, 0, 5, 9, 1, 8, 6, 4, 4, 2, 2, 1, 3, 7, 7, 7, 5, 2, 1, 8, 7, 9, 7, 0, 7, 7, 1, 4, 0, 0, 4, 8, 5, 2, 9, 9, 8, 4, 4, 7, 9, 4, 5, 0, 3, 3, 7, 8, 1, 8, 1, 8, 3, 3, 3, 7, 8, 6, 9, 0, 3, 9, 7, 7, 9, 3, 1, 9, 3, 5, 4, 9, 8, 0, 0, 2, 9, 7, 0, 7, 6, 9, 5, 6, 6, 4, 5, 1, 0, 6, 4, 3, 7, 2, 6, 9, 7, 5, 0, 3, 4, 5, 2, 0, 7, 3, 1, 5, 1, 4, 9, 0, 3, 7, 1, 4, 9, 4, 2, 3, 9, 2, 0, 1, 6, 8, 6, 0, 6, 4, 1, 1, 6, 7, 5, 4, 3, 7, 7, 2, 7, 3, 2, 5, 5, 0, 5, 5, 7, 1, 7, 0, 3, 7, 0, 9, 5, 0, 8, 6, 1, 0, 3, 6, 6, 9, 3, 4, 0, 8, 0, 7, 6, 2, 1, 8, 5, 9, 0, 0, 1, 7, 0, 8, 8, 4, 5, 6, 1, 6, 8, 7, 5, 2, 1, 0, 5, 9, 8, 0, 9, 5, 8, 2, 7, 4, 7, 1, 8, 5, 0, 5, 1, 1, 9, 9, 8, 9, 8, 1, 8, 4, 8, 2, 6, 1, 0, 7, 6, 0, 2, 2, 9, 4, 9, 3, 1, 5, 7, 5, 6, 4, 8, 5, 3, 7, 9, 1, 9, 3, 5, 7, 0, 5, 5, 0, 7, 0, 8, 6, 0, 1, 3, 6, 6, 3, 1, 5, 0, 1, 1, 3, 8, 8, 9, 7, 6, 6, 0, 1, 3, 2, 9, 0, 6, 2, 6, 3, 0, 9, 1, 2, 6, 0, 2, 5, 3, 9, 8, 8, 2, 8, 5, 7, 4, 3, 0, 7, 1, 8, 2, 3, 6, 4, 3, 9, 2, 9, 7, 2, 3, 9, 2, 4, 7, 6, 6, 2, 7, 3, 4, 6, 5, 0, 2, 0, 7, 0, 3, 0, 2, 0, 5, 5, 6, 2, 4, 0, 5, 6, 5, 5, 3, 2, 6, 1, 6, 6, 1, 0, 8, 5, 0, 1, 9, 2, 2, 9, 3, 9, 8, 8, 8, 0, 1, 9, 4, 9, 5, 9, 8, 4, 9, 6, 9, 0, 5, 6, 8, 0, 3, 5, 9, 1, 4, 1, 6, 8, 5, 5, 9, 3, 9, 8, 7, 6, 9, 2, 7, 8, 1, 8, 1, 8, 4, 6, 6, 5, 7, 0, 2, 0, 1, 3, 9, 8, 7, 5, 4, 2, 9, 5, 2, 9, 3, 6, 8, 2, 4, 7, 8, 3, 1, 2, 2, 6, 7, 1, 6, 0, 0, 4, 1, 7, 2, 5, 6, 8, 6, 3, 2, 8, 1, 8, 2, 6, 7, 1, 1, 7, 5, 9, 6, 5, 0, 2, 2, 3, 9, 8, 5, 5, 0, 2, 8, 9, 1, 1, 5, 5, 5, 5, 7, 4, 5, 0, 7, 8, 4, 3, 7, 1, 5, 9, 4, 6, 7, 5, 9, 5, 3, 3, 0, 7, 4, 8, 2, 5, 7, 0, 4, 6, 4, 5, 5, 7, 1, 4, 9, 9, 1, 5, 4, 6, 7, 5, 6, 7, 4, 4, 8, 5, 8, 6, 5, 8, 2, 1, 6, 7, 1, 6, 4, 1, 0, 5, 3, 9, 0, 4, 5, 3, 3, 6, 1, 9, 7, 6, 1, 1, 2, 4, 4, 5, 2, 3, 9, 0, 5, 8, 1, 0, 9, 4, 9, 0, 9, 8, 5, 7, 3, 4, 6, 1, 7, 7, 1, 5, 7, 7, 7, 6, 2, 5, 0, 0, 8, 8, 3, 1, 9, 0, 4, 4, 3, 1, 7, 4, 4, 9, 1, 0, 1, 5, 8, 7, 8, 0, 4, 1, 8, 5, 7, 9, 7, 2, 4, 8, 1, 7, 5, 9, 4, 0, 7, 5, 8, 8, 0, 1, 7, 4, 9, 8, 3, 6, 8, 2, 7, 1, 4, 9, 3, 8, 5, 0, 4, 7, 4, 4, 7, 2, 1, 9, 6, 3, 0, 1, 7, 2, 5, 2, 8, 7, 6, 4, 8, 9, 8, 4, 6, 2, 8, 9, 8, 2, 1, 9, 7, 5, 2, 2, 2, 3, 6, 9, 1, 1, 1, 1, 0, 3, 0, 3, 6, 4, 7, 4, 4, 9, 6, 9, 1, 6, 8, 1, 6, 3, 8, 9, 5, 4, 0, 7, 6, 3, 2, 5, 5, 1, 1, 8, 1, 2, 9, 4, 5, 0, 3, 5, 2, 3, 5, 4, 4, 1, 3, 7, 9, 7, 3, 2, 1, 4, 5, 7, 9, 8, 2, 8, 3, 3, 5, 2, 4, 3, 0, 8, 0, 8, 7, 6, 6, 5, 7, 4, 6, 5, 7, 5, 7, 5, 1, 9, 4, 0, 5, 1, 5, 0, 5, 6, 1, 2, 9, 4, 9, 2, 7, 7, 6, 7, 7, 6, 5, 1, 3, 7, 3, 3, 0, 0, 1, 1, 2, 2, 4, 7, 0, 8, 6, 9, 5, 7, 1, 8, 7, 2, 1, 3, 1, 3, 0, 1, 3, 2, 8, 0, 3, 3, 2, 8, 3, 0, 0, 8, 0, 8, 9, 8, 7, 2, 2, 6, 2, 8, 1, 2, 2, 5, 0, 1, 7, 9, 7, 7, 8, 8, 4, 3, 6, 6, 1, 1, 7, 0, 2, 9, 8, 9, 3, 5, 2, 8, 6, 0, 7, 3, 1, 1, 0, 9, 5, 6, 6, 1, 9, 3, 7, 0, 4, 3, 5, 4, 8, 4, 1, 3, 4, 1, 1, 3, 1, 0, 1, 1, 0, 7, 1, 7, 1, 3, 8, 2, 3, 1, 1, 7, 6, 4, 6, 5, 7, 3, 3, 5, 1, 7, 6, 3, 0, 9, 6, 0, 4, 2, 8, 4, 4, 4, 7, 6, 3, 7, 9, 8, 9, 9, 3, 3, 7, 8, 0, 5, 3, 7, 8, 4, 3, 5, 5, 9, 4, 2, 8, 5, 8, 8, 5, 1, 6, 9, 5, 8, 1, 2, 1, 0, 5, 5, 6, 9, 6, 8, 6, 3, 9, 2, 4, 2, 4, 2, 7, 4, 2, 3, 7, 8, 5, 0, 0, 7, 1, 2, 3, 5, 6, 1, 1, 2, 5, 5, 6, 2, 6, 3, 1, 6, 7, 6, 7, 3, 3, 9, 2, 8, 9, 3, 9, 3, 5, 2, 3, 5, 4, 6, 3, 8, 7, 6, 4, 1, 5, 4, 4, 2, 4, 8, 6, 9, 2, 9, 8, 1, 3, 6, 8, 9, 7, 2, 3, 8, 8, 9, 9, 4, 1, 3, 4, 0, 0, 0, 8, 9, 4, 3, 1, 2, 6, 6, 1, 6, 9, 1, 3, 0, 7, 0, 4, 2, 9, 2, 9, 3, 3, 5, 7, 7, 7, 0, 7, 1, 7, 5, 2, 0, 0, 2, 9, 5, 4, 8, 9, 3, 6, 5, 4, 6, 5, 0, 0, 5, 9, 7, 0, 3, 7, 6, 9, 9, 0, 2, 9, 6, 2, 8, 1, 1, 1, 5, 1, 2, 4, 5, 8, 0, 5, 1, 4, 4, 7, 9, 6, 7, 9, 3, 9, 0, 6, 2, 7, 3, 7, 2, 9, 6, 2, 5, 1, 7, 6, 5, 6, 2, 5, 9, 2, 8, 9, 6, 3, 0, 2, 6, 0, 5, 8, 8, 1, 8, 7, 1, 8, 3, 2, 0, 2, 0, 9, 4, 0, 5, 9, 6, 5, 3, 8, 4, 0, 9, 3, 5, 5, 4, 0, 4, 4, 7, 2, 5, 7, 7, 1, 2, 9, 7, 6, 2, 5, 4, 1, 8, 1, 6, 5, 5, 6, 6, 8, 1, 3, 7, 7, 6, 3, 3, 4, 0, 9, 5, 4, 3, 0, 2, 5, 5, 9, 5, 3, 1, 0, 0, 1, 2, 3, 3, 9, 2, 9, 8, 2, 9, 1, 4, 6, 3, 7, 7, 2, 0, 0, 2, 4, 6, 7, 0, 4, 4, 5, 0, 0, 6, 5, 9, 7, 9, 5, 7, 1, 4, 5, 7, 2, 0, 0, 0, 2, 9, 4, 0, 2, 0, 9, 6, 1, 0, 3, 3, 1, 8, 5, 9, 0, 2, 6, 8, 0, 2, 8, 2, 0, 4, 8, 8, 6, 5, 4, 6, 2, 7, 6, 1, 7, 1, 9, 9, 3, 9, 6, 3, 2, 0, 4, 9, 6, 7, 9, 5, 5, 1, 6, 3, 6, 7, 6, 7, 0, 9, 2, 0, 3, 9, 4, 1, 1, 5, 4, 7, 8, 6, 2, 7, 9, 2, 5, 6, 6, 7, 5, 9, 9, 6, 4, 0, 0, 1, 4, 2, 7, 3, 8, 1, 5, 6, 1, 0, 4, 1, 1, 0, 6, 6, 2, 1, 4, 1, 7, 1, 5, 8, 6, 9, 4, 6, 4, 4, 4, 1, 6, 4, 4, 3, 6, 0, 0, 3, 4, 6, 9, 2, 4, 1, 1, 6, 9, 4, 4, 9, 8, 4, 7, 2, 5, 0, 9, 6, 5, 6, 4, 2, 4, 1, 6, 5, 7, 1, 8, 9, 7, 5, 1, 5, 9, 1, 0, 2, 5, 0, 9, 7, 6, 9, 1, 2, 2, 8, 2, 9, 9, 6, 3, 5, 4, 0, 0, 3, 9, 4, 8, 7, 8, 0, 3, 5, 0, 1, 8, 0, 5, 8, 6, 1, 4, 2, 4, 1, 7, 0, 3, 6, 4, 6, 7, 3, 5, 9, 3, 3, 6, 2, 0, 7, 0, 0, 7, 0, 8, 0, 3, 2, 4, 0, 0, 1, 1, 3, 9, 3, 5, 4, 1, 5, 8, 2, 2, 1, 7, 9, 2, 9, 6, 5, 6, 3, 9, 7, 2, 8, 1, 5, 5, 2, 5, 1, 1, 7, 0, 4, 5, 8, 5, 7, 2, 0, 3, 2, 6, 7, 4, 0, 5, 0, 1, 0, 4, 0, 8, 7, 6, 6, 3, 6, 1, 9, 4, 3, 8, 9, 5, 3, 4, 4, 4, 0, 6, 9, 2, 6, 1, 9, 1, 6, 7, 2, 6, 4, 4, 1, 9, 2, 1, 6, 7, 3, 8, 7, 0, 4, 0, 6, 2, 7, 6, 9, 7, 2, 5, 5, 7, 9, 1, 6, 7, 1, 5, 5, 3, 4, 4, 2, 5, 7, 0, 0, 9, 7, 3, 8, 6, 2, 0, 2, 4, 5, 8, 0, 5, 6, 7, 4, 5, 7, 5, 0, 3, 4, 0, 2, 7, 3, 2, 4, 2, 3, 1, 2, 6, 9, 7, 9, 0, 6, 1, 3, 4, 3, 8, 4, 6, 9, 3, 4, 4, 2, 3, 3, 4, 4, 2, 8, 9, 2, 7, 0, 5, 2, 3, 9, 4, 5, 2, 4, 4, 7, 0, 1, 4, 5, 5, 5, 7, 6, 0, 3, 8, 5, 6, 0, 4, 6, 0, 3, 0, 1, 4, 5, 1, 3, 2, 3, 8, 9, 9, 4, 0, 3, 5, 1, 7, 4, 0, 7, 0, 9, 7, 3, 7, 8, 5, 4, 0, 3, 1, 3, 1, 1, 4, 6, 3, 6, 7, 1, 5, 4, 1, 0, 3, 8, 2, 2, 0, 5, 1, 4, 3, 1, 2, 5, 6, 6, 3, 4, 9, 1, 5, 4, 8, 2, 0, 0, 0, 4, 4, 2, 0, 2, 3, 2, 1, 1, 4, 1, 1, 3, 0, 0, 0, 9, 0, 6, 0, 3, 8, 1, 4, 7, 9, 6, 2, 6, 5, 6, 1, 3, 2, 4, 1, 8, 9, 9, 6, 2, 4, 4, 2, 8, 2, 3, 4, 3, 1, 5, 7, 1, 0, 1, 8, 2, 7, 6, 6, 9, 1, 5, 2, 5, 8, 2, 3, 2, 5, 3, 5, 8, 7, 5, 8, 2, 9, 4, 7, 3, 7, 8, 4, 2, 3, 8, 2, 9, 2, 7, 9, 2, 9, 6, 1, 1, 4, 8, 9, 7, 0, 4, 0, 4, 8, 2, 9, 7, 2, 9, 4, 1, 8, 2, 2, 5, 6, 6, 6, 2, 4, 2, 6, 7, 4, 0, 7, 4, 5, 5, 7, 1, 1, 4, 3, 9, 7, 3, 3, 2, 7, 8, 7, 1, 1, 5, 9, 9, 7, 2, 2, 0, 2, 9, 8, 4, 4, 7, 1, 2, 7, 1, 2, 2, 3, 5, 6, 9, 8, 3, 0, 3, 0, 0, 6, 1, 6, 5, 4, 9, 3, 0, 4, 6, 4, 0, 7, 6, 3, 0, 5, 2, 4, 9, 2, 8, 3, 7, 1, 8, 2, 1, 9, 6, 4, 4, 6, 8, 9, 9, 7, 0, 4, 3, 4, 4, 5, 6, 8, 6, 1, 2, 9, 2, 8, 0, 0, 8, 5, 6, 9, 7, 3, 9, 5, 2, 9, 8, 6, 1, 4, 8, 2, 2, 0, 5, 4, 1, 5, 8, 4, 1, 4, 2, 8, 9, 3, 6, 0, 1, 1, 8, 2, 9, 3, 4, 5, 6, 2, 9, 6, 0, 6, 8, 0, 8, 3, 4, 8, 7, 0, 3, 2, 2, 4, 6, 1, 7, 6, 2, 3, 5, 4, 4, 0, 8, 0, 3, 0, 7, 9, 4, 9, 5, 3, 3, 0, 1, 6, 5, 5, 4, 6, 4, 4, 6, 3, 5, 5, 4, 9, 7, 5, 6, 3, 8, 6, 4, 5, 0, 6, 8, 2, 7, 2, 7, 7, 6, 7, 1, 3, 9, 9, 5, 7, 5, 2, 0, 7, 9, 7, 1, 1, 8, 6, 4, 4, 0, 4, 1, 4, 1, 5, 2, 6, 6, 0, 1, 8, 0, 7, 4, 0, 1, 3, 1, 9, 3, 7, 8, 7, 6, 7, 4, 9, 0, 3, 4, 5, 7, 5, 7, 8, 9, 6, 4, 2, 4, 1, 1, 4, 7, 0, 7, 6, 7, 3, 7, 1, 4, 7, 2, 4, 7, 0, 9, 0, 7, 6, 1, 9, 3, 7, 5, 4, 0, 7, 3, 3, 9, 0, 7, 7, 1, 8, 6, 4, 0, 8, 7, 4, 0, 6, 1, 2, 1, 3, 6, 2, 9, 2, 8, 1, 4, 4, 1, 1, 6, 8, 3, 4, 2, 9, 1, 8, 4, 2, 8, 0, 5, 7, 1, 7, 6, 9, 1, 0, 8, 3, 1, 6, 2, 9, 2, 9, 2, 1, 7, 6, 5, 9, 3, 7, 7, 1, 0, 3, 1, 4, 6, 1, 6, 5, 4, 9, 0, 9, 2, 0, 5, 7, 9, 2, 5, 9, 2, 1, 3, 3, 8, 9, 1, 3, 3, 7, 9, 6, 6, 6, 7, 6, 4, 6, 8, 6, 2, 8, 1, 3, 6, 6, 7, 7, 3, 7, 5, 7, 0, 2, 2, 2, 1, 3, 4, 3, 6, 2, 2, 2, 1, 3, 2, 0, 4, 4, 9, 4, 3, 1, 9, 9, 2, 3, 3, 4, 5, 8, 8, 7, 7, 6, 4, 7, 1, 6, 0, 1, 9, 0, 0, 9, 0, 4, 9, 6, 8, 8, 9, 8, 6, 7, 9, 4, 6, 0, 2, 9, 2, 0, 9, 1, 0, 6, 7, 5, 4, 4, 8, 0, 0, 5, 5, 2, 8, 1, 2, 2, 1, 4, 5, 6, 5, 5, 6, 4, 4, 1, 7, 9, 5, 3, 3, 8, 8, 2, 7, 9, 5, 7, 7, 3, 3, 0, 8, 0, 6, 0, 4, 7, 7, 5, 5, 1, 3, 2, 6, 5, 7, 4, 5, 8, 4, 7, 7, 9, 2, 1, 5, 7, 1, 5, 5, 3, 0, 0, 0, 4, 0, 0, 5, 2, 1, 5, 8, 8, 5, 2, 7, 1, 4, 8, 4, 9, 6, 7, 4, 1, 3, 8, 1, 0, 1, 7, 7, 0, 7, 4, 6, 4, 7, 2, 8, 0, 0, 7, 1, 3, 3, 7, 6, 7, 1, 9, 7, 5, 3, 7, 0, 1, 1, 9, 2, 7, 5, 2, 6, 1, 0, 3, 9, 0, 7, 7, 0, 7, 3, 6, 5, 5, 7, 9, 3, 6, 7, 7, 4, 5, 7, 9, 0, 1, 1, 1, 0, 0, 1, 1, 4, 3, 2, 6, 6, 8, 7, 4, 0, 4, 3, 7, 3, 8, 8, 8, 0, 4, 7, 2, 2, 5, 1, 2, 3, 9, 3, 0, 9, 4, 0, 0, 6, 4, 9, 8, 1, 8, 8, 0, 3, 9, 5, 7, 6, 0, 2, 2, 6, 9, 8, 9, 4, 1, 3, 7, 7, 2, 9, 9, 9, 4, 5, 2, 6, 4, 3, 3, 4, 5, 6, 4, 8, 4, 5, 1, 8, 9, 7, 1, 8, 9, 8, 7, 7, 0, 5, 4, 7, 0, 6, 7, 9, 1, 4, 4, 5, 4, 7, 7, 9, 5, 1, 7, 5, 9, 7, 4, 5, 3, 9, 0, 8, 2, 1, 3, 7, 6, 1, 7, 6, 5, 6, 2, 0, 3, 6, 9, 7, 8, 4, 0, 8, 6, 1, 7, 8, 6, 5, 1, 2, 9, 5, 2, 1, 1, 6, 1, 3, 2, 1, 1, 1, 8, 9, 6, 1, 6, 4, 6, 8, 3, 5, 5, 1, 3, 4, 7, 1, 2, 6, 3, 9, 3, 7, 4, 2, 6, 8, 8, 0, 1, 8, 7, 4, 5, 8, 0, 0, 0, 2, 0, 0, 6, 1, 2, 8, 5, 8, 9, 2, 3, 9, 6, 0, 7, 3, 7, 3, 9, 5, 6, 6, 5, 0, 6, 6, 2, 8, 2, 1, 6, 8, 2, 9, 0, 0, 9, 6, 0, 0, 2, 6, 7, 9, 2, 0, 6, 1, 1, 6, 7, 3, 0, 7, 6, 0, 0, 0, 1, 4, 5, 0, 2, 1, 9, 7, 4, 8, 4, 8, 1, 0, 3, 2, 1, 5, 9, 7, 2, 9, 0, 9, 1, 3, 8, 6, 5, 2, 3, 6, 2, 1, 7, 8, 0, 2, 3, 3, 4, 3, 0, 5, 3, 9, 7, 4, 0, 9, 5, 2, 8, 4, 5, 8, 7, 0, 9, 0, 6, 9, 4, 0, 1, 8, 4, 5, 5, 3, 4, 7, 6, 5, 3, 6, 0, 5, 1, 2, 1, 3, 7, 0, 1, 6, 8, 9, 2, 4, 9, 9, 4, 6, 3, 2, 9, 9, 3, 3, 9, 2, 2, 0, 2, 3, 8, 8, 1, 5, 2, 3, 6, 3, 0, 9, 2, 0, 3, 0, 9, 1, 3, 2, 3, 9, 9, 1, 4, 2, 7, 0, 6, 1, 3, 9, 3, 5, 5, 5, 1, 1, 9, 8, 6, 8, 2, 3, 8, 7, 9, 0, 7, 8, 4, 8, 9, 3, 6, 7, 7, 1, 5, 4, 5, 8, 0, 5, 9, 7, 2, 9, 7, 1, 6, 1, 8, 3, 8, 8, 1, 7, 6, 2, 3, 3, 4, 2, 4, 5, 0, 1, 8, 4, 7, 3, 5, 8, 4, 8, 0, 5, 1, 3, 8, 0, 2, 2, 2, 5, 4, 8, 5, 0, 3, 4, 0, 9, 4, 2, 0, 6, 3, 6, 7, 2, 5, 3, 5, 7, 0, 8, 6, 8, 5, 3, 1, 3, 3, 6, 8, 2, 4, 6, 2, 1, 1, 8, 1, 0, 2, 0, 3, 4, 4, 2, 3, 7, 7, 6, 1, 4, 4, 6, 5, 5, 7, 3, 2, 6, 7, 3, 4, 3, 6, 6, 4, 4, 6, 9, 0, 8, 2, 8, 2, 6, 3, 2, 4, 4, 8, 4, 2, 4, 1, 3, 4, 6, 7, 7, 2, 3, 8, 9, 0, 9, 3, 6, 0, 7, 9, 0, 0, 8, 7, 1, 3, 7, 5, 8, 7, 2, 9, 2, 8, 5, 0, 4, 6, 7, 6, 6, 0, 5, 8, 3, 9, 7, 3, 5, 5, 3, 8, 4, 9, 1, 6, 5, 0, 0, 2, 0, 7, 8, 1, 8, 8, 6, 6, 6, 7, 2, 3, 1, 9, 4, 1, 0, 6, 9, 1, 4, 6, 3, 4, 2, 1, 5, 2, 8, 0, 0, 7, 7, 1, 5, 4, 3, 6, 2, 5, 7, 2, 9, 5, 8, 0, 6, 6, 6, 7, 6, 2, 6, 1, 9, 6, 9, 0, 5, 1, 9, 4, 1, 2, 3, 3, 3, 8, 8, 2, 1, 2, 2, 4, 2, 7, 1, 7, 8, 1, 9, 1, 5, 4, 1, 6, 7, 3, 0, 2, 0, 5, 7, 8, 6, 2, 8, 5, 2, 6, 1, 5, 3, 6, 7, 8, 1, 6, 9, 4, 5, 0, 3, 0, 9, 1, 3, 7, 5, 0, 3, 8, 4, 2, 7, 5, 5, 5, 3, 2, 8, 0, 6, 7, 1, 7, 0, 8, 6, 9, 6, 7, 8, 3, 7, 6, 4, 2, 8, 1, 0, 2, 0, 1, 5, 5, 6, 4, 7, 6, 8, 4, 4, 5, 2, 7, 5, 6, 4, 5, 5, 1, 4, 7, 2, 7, 3, 6, 3, 1, 1, 0, 2, 1, 3, 7, 3, 0, 2, 5, 1, 6, 6, 0, 7, 3, 8, 1, 2, 5, 0, 3, 5, 2, 9, 2, 3, 1, 4, 6, 1, 4, 4, 9, 6, 4, 2, 9, 3, 4, 1, 0, 2, 5, 5, 0, 9, 4, 1, 4, 4, 0, 2, 9, 5, 3, 4, 6, 0, 5, 2, 6, 3, 4, 3, 0, 9, 7, 0, 8, 8, 0, 4, 6, 6, 4, 3, 7, 0, 4, 3, 5, 1, 9, 1, 3, 8, 7, 0, 0, 0, 2, 8, 6, 8, 0, 0, 6, 0, 0, 1, 5, 7, 2, 1, 3, 5, 4, 1, 5, 2, 7, 0, 3, 7, 3, 3, 0, 8, 9, 0, 0, 2, 0, 1, 5, 6, 5, 1, 0, 2, 1, 8, 9, 9, 2, 3, 3, 9, 8, 9, 7, 6, 3, 7, 1, 6, 0, 9, 0, 0, 4, 5, 6, 0, 5, 0, 5, 7, 2, 0, 4, 6, 3, 4, 4, 6, 3, 2, 2, 4, 1, 9, 6, 0, 9, 9, 6, 9, 2, 8, 3, 4, 6, 8, 0, 4, 5, 8, 7, 6, 2, 6, 6, 7, 5, 6, 7, 3, 9, 6, 2, 6, 1, 1, 5, 5, 4, 9, 1, 9, 4, 4, 0, 7, 0, 3, 8, 3, 7, 9, 0, 5, 8, 9, 0, 9, 2, 4, 4, 0, 9, 1, 3, 1, 9, 1, 9, 3, 6, 9, 5, 3, 7, 8, 0, 2, 1, 3, 7, 0, 5, 5, 1, 8, 7, 6, 7, 2, 3, 0, 3, 6, 4, 4, 1, 8, 1, 1, 4, 1, 6, 1, 9, 6, 8, 9, 2, 7, 3, 3, 2, 0, 8, 8, 8, 7, 3, 2, 0, 3, 6, 6, 9, 3, 7, 0, 6, 9, 3, 3, 3, 2, 9, 0, 0, 5, 9, 5, 7, 4, 3, 9, 0, 2, 9, 6, 4, 2, 0, 5, 4, 4, 5, 5, 4, 9, 0, 1, 7, 2, 1, 1, 3, 0, 5, 3, 1, 8, 2, 3, 3, 8, 2, 2, 6, 1, 2, 5, 6, 6, 0, 3, 1, 3, 3, 7, 1, 1, 5, 6, 1, 3, 3, 6, 4, 6, 6, 2, 1, 4, 6, 8, 2, 3, 7, 7, 9, 1, 4, 5, 1, 8, 7, 2, 1, 9, 1, 2, 1, 9, 9, 7, 5, 4, 1, 0, 6, 4, 7, 3, 8, 3, 6, 0, 3, 9, 2, 8, 9, 3, 8, 8, 8, 2, 8, 5, 9, 4, 3, 8, 9, 7, 4, 5, 7, 7, 7, 7, 0, 8, 6, 6, 1, 2, 0, 4, 5, 1, 6, 0, 0, 7, 9, 7, 8, 3, 3, 8, 0, 8, 2, 8, 8, 7, 6, 0, 4, 3, 8, 8, 0, 5, 6, 7, 7, 5, 3, 0, 4, 5, 6, 9, 9, 2, 6, 7, 7, 6, 5, 7, 0, 0, 1, 1, 1, 0, 1, 8, 7, 9, 1, 1, 6, 9, 6, 1, 3, 3, 4, 1, 2, 5, 2, 3, 2, 5, 8, 4, 1, 2, 8, 7, 6, 7, 5, 6, 6, 6, 0, 4, 9, 3, 2, 9, 4, 3, 0, 0, 1, 9, 8, 6, 6, 1, 8, 3, 4, 6, 6, 9, 4, 6, 8, 4, 9, 5, 5, 3, 9, 8, 5, 4, 5, 2, 9, 2, 4, 5, 8, 0, 9, 6, 1, 7, 1, 0, 8, 4, 1, 6, 0, 1, 1, 4, 7, 5, 7, 6, 9, 1, 1, 8, 7, 7, 9, 6, 8, 3, 2, 7, 2, 9, 3, 1, 5, 8, 8, 2, 2, 3, 9, 0, 2, 2, 5, 1, 4, 6, 3, 6, 5, 6, 4, 5, 1, 0, 3, 0, 0, 9, 0, 6, 4, 1, 1, 5, 1, 2, 6, 9, 4, 4, 8, 5, 7, 3, 7, 8, 5, 6, 3, 6, 5, 8, 2, 2, 1, 1, 9, 3, 6, 4, 6, 0, 7, 0, 2, 3, 2, 9, 6, 3, 0, 2, 6, 3, 6, 2, 1, 5, 7, 6, 1, 3, 2, 6, 1, 2, 7, 7, 5, 5, 7, 7, 3, 9, 4, 1, 2, 5, 0, 9, 2, 4, 1, 9, 2, 7, 2, 4, 7, 6, 2, 0, 2, 4, 4, 1, 0, 2, 0, 8, 7, 5, 1, 2, 1, 8, 6, 9, 4, 1, 4, 7, 9, 5, 1, 0, 7, 7, 9, 3, 8, 8, 9, 7, 2, 4, 7, 9, 2, 6, 6, 0, 2, 7, 7, 9, 0, 7, 4, 0, 5, 6, 5, 0, 5, 7, 1, 2, 4, 3, 1, 7, 9, 6, 9, 6, 9, 2, 3, 5, 5, 7, 0, 9, 5, 1, 8, 1, 1, 5, 6, 4, 8, 9, 4, 8, 9, 8, 1, 2, 3, 3, 4, 2, 9, 1, 1, 1, 1, 3, 0, 1, 0, 6, 2, 1, 3, 9, 6, 1, 3, 7, 1, 9, 8, 4, 5, 0, 6, 1, 6, 6, 4, 0, 0, 1, 7, 6, 1, 2, 5, 0, 2, 7, 1, 2, 3, 1, 3, 2, 3, 1, 7, 1, 9, 6, 9, 0, 0, 3, 1, 3, 6, 6, 6, 3, 1, 4, 4, 7, 0, 1, 2, 3, 0, 3, 8, 0, 9, 8, 9, 4, 0, 4, 1, 9, 6, 0, 5, 2, 7, 6, 1, 9, 9, 0, 2, 2, 2, 5, 8, 4, 9, 9, 8, 5, 9, 2, 1, 1, 7, 2, 1, 4, 6, 6, 5, 2, 0, 8, 9, 5, 0, 6, 6, 7, 2, 9, 6, 3, 6, 9, 8, 5, 7, 9, 8, 8, 1, 9, 7, 9, 7, 6, 5, 4, 8, 4, 9, 7, 4, 3, 9, 7, 8, 9, 6, 0, 8, 8, 9, 2, 9, 1, 4, 3, 6, 9, 0, 1, 1, 9, 8, 3, 7, 7, 3, 5, 6, 2, 8, 3, 3, 3, 2, 4, 8, 3, 7, 6, 7, 3, 6, 1, 4, 2, 7, 7, 6, 6, 1, 0, 0, 2, 1, 9, 2, 6, 4, 8, 9, 6, 4, 4, 3, 6, 7, 4, 0, 3, 4, 1, 7, 8, 9, 3, 9, 2, 3, 4, 7, 4, 2, 7, 5, 5, 3, 9, 2, 5, 3, 1, 8, 8, 5, 2, 9, 3, 3, 0, 8, 2, 4, 2, 7, 1, 5, 7, 1, 0, 3, 9, 6, 4, 2, 5, 3, 7, 7, 3, 6, 3, 5, 2, 0, 2, 7, 8, 1, 9, 8, 0, 8, 2, 2, 9, 3, 7, 1, 5, 9, 0, 8, 1, 9, 3, 7, 9, 2, 4, 7, 1, 4, 4, 3, 3, 5, 1, 7, 8, 6, 6, 6, 4, 4, 0, 1, 2, 7, 0, 5, 6, 7, 7, 5, 1, 9, 5, 1, 0, 0, 1, 2, 1, 1, 5, 4, 3, 0, 4, 8, 0, 2, 4, 8, 6, 5, 1, 5, 6, 0, 9, 6, 3, 4, 7, 7, 1, 6, 4, 7, 4, 3, 6, 8, 3, 5, 0, 7, 7, 7, 2, 6, 6, 9, 1, 2, 0, 0, 8, 7, 2, 9, 9, 1, 4, 4, 1, 1, 0, 7, 0, 6, 0, 3, 4, 3, 5, 4, 7, 8, 3, 0, 0, 9, 3, 7, 0, 1, 4, 2, 2, 1, 4, 9, 0, 9, 0, 0, 4, 2, 9, 4, 1, 3, 5, 3, 1, 9, 2, 2, 4, 2, 7, 9, 3, 6, 8, 3, 7, 7, 3, 6, 7, 5, 4, 9, 6, 3, 5, 7, 5, 5, 9, 4, 4, 1, 7, 0, 5, 1, 7, 4, 7, 7, 3, 0, 2, 8, 3, 7, 3, 2, 5, 9, 0, 7, 3, 9, 6, 8, 6, 8, 8, 0, 7, 4, 5, 7, 8, 7, 1, 4, 4, 7, 4, 6, 7, 2, 9, 2, 4, 7, 0, 8, 9, 7, 4, 9, 1, 0, 3, 0, 5, 3, 5, 0, 4, 6, 2, 9, 6, 9, 6, 8, 1, 0, 0, 0, 9, 6, 6, 8, 7, 2, 1, 2, 8, 5, 4, 5, 4, 0, 8, 7, 4, 5, 4, 0, 3, 5, 7, 7, 8, 2, 1, 5, 5, 1, 2, 7, 2, 8, 7, 2, 2, 4, 5, 7, 5, 2, 4, 4, 9, 2, 1, 0, 2, 8, 9, 3, 3, 4, 4, 8, 9, 8, 0, 5, 8, 7, 9, 7, 3, 8, 3, 2, 6, 7, 1, 1, 0, 5, 6, 1, 8, 7, 4, 4, 3, 1, 6, 0, 1, 6, 6, 4, 5, 5, 0, 6, 3, 9, 8, 9, 1, 7, 0, 7, 7, 2, 1, 2, 4, 7, 5, 8, 1, 9, 9, 4, 2, 8, 8, 3, 6, 2, 4, 0, 4, 4, 9, 0, 7, 6, 0, 4, 8, 8, 2, 3, 1, 9, 1, 0, 8, 1, 2, 6, 4, 1, 2, 2, 2, 4, 4, 9, 3, 2, 7, 6, 5, 4, 1, 9, 3, 2, 4, 4, 9, 7, 6, 8, 8, 4, 0, 8, 5, 3, 4, 2, 0, 8, 7, 9, 3, 3, 3, 8, 5, 2, 7, 4, 9, 4, 3, 5, 2, 4, 8, 5, 6, 3, 2, 9, 8, 2, 1, 1, 5, 2, 4, 4, 0, 6, 6, 6, 6, 9, 5, 5, 7, 0, 0, 5, 4, 8, 7, 5, 1, 8, 3, 1, 4, 5, 7, 7, 2, 3, 1, 0, 1, 0, 8, 4, 6, 4, 8, 4, 1, 1, 4, 0, 9, 8, 3, 7, 6, 4, 1, 8, 9, 3, 0, 0, 6, 3, 2, 8, 3, 0, 0, 3, 4, 0, 0, 1, 3, 5, 1, 8, 0, 1, 2, 8, 0, 2, 6, 6, 7, 5, 7, 2, 6, 7, 2, 3, 9, 7, 6, 2, 6, 5, 1, 9, 7, 6, 5, 4, 4, 2, 4, 2, 7, 6, 6, 1, 2, 6, 6, 9, 4, 6, 2, 8, 1, 9, 2, 2, 8, 4, 9, 4, 6, 3, 5, 2, 0, 8, 6, 6, 8, 3, 0, 5, 1, 5, 4, 5, 6, 1, 0, 5, 4, 5, 9, 4, 8, 7, 1, 6, 0, 1, 3, 8, 6, 5, 0, 7, 6, 7, 7, 8, 4, 1, 8, 8, 0, 3, 1, 4, 8, 3, 9, 3, 1, 6, 9, 6, 7, 3, 7, 0, 4, 7, 2, 7, 2, 2, 3, 7, 7, 2, 0, 0, 7, 9, 8, 4, 7, 6, 6, 8, 0, 1, 8, 0, 0, 3, 9, 6, 7, 9, 9, 4, 8, 2, 5, 0, 6, 9, 8, 2, 7, 7, 1, 9, 3, 3, 7, 0, 7, 2, 8, 3, 8, 1, 1, 2, 1, 8, 4, 2, 1, 3, 6, 7, 1, 7, 1, 5, 0, 9, 6, 9, 1, 8, 2, 7, 5, 0, 9, 3, 2, 5, 1, 7, 2, 0, 8, 9, 7, 3, 1, 5, 0, 0, 1, 1, 0, 6, 3, 1, 3, 1, 4, 7, 3, 0, 2, 6, 8, 9, 7, 4, 1, 4, 3, 5, 1, 2, 0, 4, 4, 3, 9, 4, 4, 8, 3, 7, 1, 7, 8, 3, 7, 0, 6, 5, 7, 4, 8, 8, 5, 5, 6, 2, 7, 0, 9, 2, 3, 4, 2, 6, 7, 9, 0, 6, 4, 2, 0, 3, 6, 8, 5, 8, 5, 4, 5, 8, 2, 2, 0, 1, 3, 3, 3, 1, 5, 4, 8, 8, 3, 9, 1, 0, 8, 7, 4, 5, 1, 7, 0, 3, 3, 7, 6, 2, 0, 4, 1, 0, 7, 9, 3, 1, 0, 1, 9, 7, 7, 9, 0, 5, 7, 9, 8, 7, 4, 8, 8, 4, 0, 9, 1, 2, 2, 5, 1, 5, 5, 4, 0, 0, 7, 4, 7, 1, 6, 6, 8, 2, 6, 0, 7, 1, 2, 1, 5, 6, 3, 5, 4, 9, 6, 3, 1, 1, 9, 2, 3, 8, 1, 5, 8, 7, 6, 2, 3, 6, 5, 5, 0, 8, 4, 7, 1, 1, 2, 8, 6, 5, 7, 3, 9, 7, 7, 0, 1, 2, 3, 4, 8, 6, 5, 9, 4, 7, 2, 7, 2, 0, 6, 2, 4, 7, 1, 0, 9, 4, 4, 6, 1, 6, 0, 9, 3, 5, 5, 1, 3, 0, 7, 6, 6, 1, 8, 6, 5, 3, 9, 4, 1, 9, 7, 1, 3, 8, 2, 3, 6, 7, 5, 8, 1, 3, 2, 1, 2, 6, 1, 1, 6, 6, 8, 0, 0, 7, 2, 1, 8, 8, 6, 3, 6, 6, 6, 2, 6, 9, 7, 5, 0, 9, 7, 8, 8, 8, 7, 7, 8, 8, 6, 0, 2, 9, 6, 7, 6, 3, 8, 1, 4, 6, 2, 1, 8, 6, 0, 7, 4, 5, 0, 6, 9, 5, 1, 2, 0, 0, 4, 9, 8, 3, 6, 3, 9, 7, 6, 7, 2, 7, 4, 7, 9, 5, 5, 2, 6, 1, 2, 2, 9, 3, 8, 0, 5, 2, 5, 2, 6, 5, 0, 5, 4, 1, 3, 9, 7, 9, 1, 2, 9, 9, 6, 8, 3, 4, 9, 7, 9, 9, 6, 7, 9, 0, 6, 1, 3, 9, 3, 7, 7, 2, 7, 0, 3, 9, 1, 2, 3, 3, 4, 7, 1, 5, 3, 3, 6, 3, 1, 4, 1, 2, 9, 2, 4, 8, 5, 1, 1, 3, 9, 2, 2, 9, 8, 3, 2, 8, 9, 6, 0, 3, 9, 2, 2, 4, 2, 9, 8, 9, 2, 1, 4, 7, 9, 3, 8, 8, 5, 4, 9, 9, 5, 0, 5, 0, 4, 9, 8, 9, 8, 3, 7, 5, 2, 6, 7, 5, 6, 1, 6, 7, 8, 3, 5, 1, 8, 1, 1, 0, 8, 2, 0, 0, 1, 6, 8, 9, 3, 2, 9, 3, 3, 7, 3, 6, 8, 8, 7, 0, 9, 9, 1, 5, 2, 7, 1, 2, 4, 0, 9, 4, 7, 9, 6, 7, 4, 0, 6, 3, 8, 6, 4, 4, 7, 1, 6, 4, 4, 9, 7, 7, 9, 1, 6, 8, 5, 7, 1, 2, 8, 8, 0, 4, 6, 0, 4, 9, 3, 3, 2, 8, 6, 1, 8, 2, 3, 2, 9, 4, 6, 9, 0, 7, 5, 5, 3, 1, 4, 3, 6, 2, 8, 3, 4, 9, 7, 8, 4, 5, 3, 0, 8, 6, 2, 2, 6, 1, 1, 9, 9, 7, 0, 9, 1, 3, 1, 5, 5, 3, 4, 0, 0, 6, 7, 2, 6, 3, 0, 6, 2, 1, 5, 7, 4, 3, 5, 4, 1, 6, 7, 0, 5, 9, 9, 5, 1, 3, 1, 5, 5, 6, 7, 9, 0, 3, 6, 0, 1, 7, 8, 0, 2, 5, 5, 0, 9, 7, 1, 7, 9, 9, 0, 8, 8, 1, 6, 2, 1, 1, 0, 3, 3, 7, 8, 0, 2, 3, 2, 8, 1, 4, 4, 7, 6, 6, 2, 4, 7, 0, 7, 6, 8, 2, 8, 6, 5, 1, 0, 6, 8, 4, 7, 3, 5, 6, 0, 7, 2, 1, 1, 4, 6, 5, 8, 7, 1, 3, 7, 1, 7, 9, 7, 9, 2, 8, 5, 0, 9, 7, 6, 5, 3, 8, 7, 0, 7, 8, 9, 3, 5, 7, 6, 5, 5, 6, 3, 3, 7, 6, 3, 5, 0, 8, 8, 0, 6, 6, 4, 3, 2, 9, 7, 1, 1, 3, 9, 5, 9, 9, 9, 6, 2, 1, 8, 5, 0, 3, 4, 5, 1, 0, 2, 8, 7, 7, 4, 8, 3, 9, 2, 1, 9, 9, 1, 7, 5, 3, 0, 3, 4, 0, 0, 2, 5, 3, 8, 9, 5, 6, 9, 4, 8, 4, 3, 3, 7, 1, 1, 8, 9, 9, 3, 8, 9, 5, 9, 6, 1, 3, 3, 1, 8, 2, 4, 6, 3, 0, 9, 7, 3, 2, 7, 0, 4, 1, 8, 2, 4, 5, 1, 3, 9, 0, 7, 5, 7, 1, 6, 9, 6, 9, 0, 6, 4, 9, 4, 8, 4, 8, 1, 5, 6, 7, 1, 2, 7, 4, 0, 0, 3, 4, 0, 3, 0, 1, 7, 0, 9, 0, 4, 4, 4, 8, 5, 2, 5, 3, 8, 3, 8, 2, 6, 3, 1, 6, 5, 9, 6, 9, 1, 7, 0, 5, 2, 2, 1, 2, 8, 2, 1, 0, 9, 2, 3, 0, 6, 9, 3, 1, 7, 9, 3, 5, 4, 7, 3, 6, 6, 7, 7, 0, 4, 9, 3, 6, 3, 4, 9, 0, 6, 5, 6, 7, 7, 5, 6, 8, 0, 7, 5, 3, 2, 5, 9, 0, 8, 2, 5, 9, 2, 4, 4, 2, 2, 2, 5, 5, 5, 4, 9, 7, 3, 8, 3, 5, 2, 2, 3, 1, 9, 2, 9, 3, 4, 8, 4, 3, 4, 5, 9, 8, 2, 1, 4, 0, 7, 1, 1, 3, 2, 0, 5, 8, 3, 1, 1, 5, 4, 3, 8, 8, 4, 5, 9, 6, 0, 7, 1, 4, 8, 9, 8, 2, 0, 1, 8, 5, 1, 1, 0, 7, 2, 7, 2, 0, 1, 3, 8, 5, 5, 2, 6, 1, 9, 2, 0, 4, 8, 7, 6, 4, 5, 0, 1, 4, 7, 3, 1, 7, 4, 3, 1, 4, 4, 0, 7, 2, 9, 6, 5, 4, 8, 7, 2, 7, 7, 8, 9, 7, 8, 5, 4, 2, 1, 4, 0, 6, 7, 8, 6, 1, 7, 8, 9, 7, 7, 5, 4, 8, 0, 1, 3, 9, 2, 5, 9, 8, 4, 4, 7, 1, 5, 9, 5, 2, 8, 7, 5, 9, 6, 0, 9, 6, 3, 8, 0, 9, 2, 9, 7, 3, 7, 0, 5, 0, 1, 9, 8, 9, 3, 4, 1, 2, 1, 4, 9, 0, 4, 7, 9, 4, 8, 3, 6, 8, 9, 6, 9, 9, 9, 9, 0, 0, 9, 8, 2, 6, 2, 0, 1, 2, 3, 4, 5, 1, 3, 4, 7, 6, 8, 7, 2, 6, 4, 8, 4, 3, 7, 3, 2, 9, 2, 9, 7, 7, 3, 7, 7, 4, 5, 3, 8, 4, 3, 2, 0, 6, 4, 7, 7, 4, 1, 7, 3, 8, 1, 2, 5, 8, 0, 8, 3, 2, 0, 7, 7, 6, 0, 9, 0, 2, 5, 3, 7, 0, 3, 7, 2, 0, 7, 6, 8, 4, 0, 7, 3, 5, 1, 0, 6, 6, 4, 4, 0, 0, 2, 6, 9, 6, 4, 1, 0, 1, 6, 7, 3, 6, 4, 6, 7, 8, 1, 3, 6, 4, 4, 5, 3, 5, 3, 6, 9, 6, 3, 3, 0, 6, 5, 2, 9, 3, 4, 4, 2, 3, 7, 0, 1, 7, 9, 7, 1, 3, 5, 5, 1, 6, 8, 5, 0, 7, 8, 9, 0, 9, 0, 7, 7, 9, 1, 0, 8, 0, 6, 7, 4, 7, 4, 4, 3, 0, 8, 4, 5, 2, 5, 1, 1, 4, 6, 6, 1, 1, 1, 5, 9, 4, 7, 8, 8, 4, 8, 5, 7, 2, 6, 5, 5, 1, 0, 3, 4, 1, 6, 4, 8, 4, 9, 7, 1, 4, 5, 3, 5, 6, 5, 6, 7, 7, 8, 0, 6, 6, 0, 0, 8, 0, 6, 5, 9, 4, 4, 2, 5, 9, 1, 4, 6, 6, 6, 7, 4, 8, 2, 2, 8, 1, 6, 5, 3, 3, 4, 5, 2, 3, 3, 6, 1, 0, 5, 4, 6, 3, 2, 3, 4, 3, 8, 1, 4, 5, 1, 2, 0, 2, 3, 1, 3, 6, 1, 7, 7, 6, 9, 0, 3, 8, 2, 7, 3, 5, 6, 9, 4, 0, 2, 1, 6, 4, 0, 7, 4, 9, 7, 0, 4, 1, 9, 1, 0, 8, 5, 1, 7, 7, 0, 3, 7, 0, 0, 9, 9, 7, 1, 1, 4, 0, 5, 6, 2, 0, 3, 3, 6, 1, 2, 1, 2, 2, 4, 7, 3, 6, 6, 4, 7, 8, 9, 2, 3, 4, 5, 2, 6, 6, 7, 7, 9, 7, 7, 6, 9, 7, 5, 1, 6, 9, 1, 2, 1, 0, 7, 0, 6, 1, 7, 3, 3, 0, 1, 2, 1, 3, 2, 7, 9, 1, 9, 0, 0, 9, 7, 7, 3, 2, 9, 3, 8, 1, 3, 6, 8, 2, 8, 4, 6, 1, 5, 5, 2, 8, 4, 0, 7, 7, 0, 7, 4, 5, 0, 3, 4, 8, 6, 5, 2, 9, 0, 2, 4, 5, 3, 0, 7, 0, 0, 8, 1, 2, 5, 4, 4, 6, 9, 6, 3, 0, 2, 6, 2, 3, 2, 0, 4, 8, 7, 4, 3, 4, 0, 3, 7, 7, 4, 2, 0, 9, 1, 9, 0, 7, 6, 6, 5, 9, 5, 9, 1, 3, 5, 7, 9, 7, 6, 0, 2, 4, 3, 1, 9, 4, 4, 0, 9, 9, 3, 3, 7, 7, 0, 9, 2, 7, 6, 2, 3, 9, 2, 0, 4, 7, 8, 3, 9, 4, 4, 7, 3, 9, 0, 7, 7, 3, 2, 5, 3, 6, 1, 5, 5, 1, 8, 2, 8, 9, 9, 5, 2, 1, 3, 1, 8, 5, 6, 6, 2, 7, 8, 0, 1, 5, 6, 6, 9, 6, 9, 1, 7, 1, 6, 3, 9, 7, 5, 4, 1, 9, 3, 7, 5, 1, 9, 5, 9, 4, 0, 1, 1, 9, 4, 3, 7, 7, 2, 6, 5, 2, 6, 4, 4, 8, 7, 3, 2, 5, 4, 6, 0, 5, 6, 7, 5, 2, 5, 7, 9, 7, 1, 5, 6, 3, 7, 9, 9, 4, 1, 0, 9, 8, 5, 7, 7, 9, 1, 4, 6, 0, 2, 1, 7, 7, 0, 2, 5, 1, 4, 1, 1, 0, 3, 7, 0, 7, 2, 6, 6, 4, 2, 5, 6, 8, 8, 3, 0, 1, 4, 6, 2, 6, 3, 8, 9, 7, 6, 7, 0, 5, 2, 1, 7, 6, 9, 4, 0, 2, 5, 9, 2, 3, 3, 2, 5, 0, 4, 8, 3, 3, 7, 2, 3, 3, 0, 4, 5, 7, 9, 9, 6, 6, 7, 5, 2, 1, 6, 1, 0, 0, 8, 8, 7, 6, 2, 9, 3, 2, 0, 4, 6, 6, 4, 3, 5, 6, 8, 7, 6, 6, 9, 2, 6, 8, 0, 1, 7, 5, 7, 2, 6, 5, 5, 7, 9, 3, 8, 8, 8, 4, 0, 6, 6, 0, 6, 9, 5, 1, 3, 1, 2, 5, 5, 0, 0, 1, 8, 3, 0, 3, 3, 7, 1, 3, 4, 9, 7, 5, 5, 4, 4, 6, 1, 9, 1, 0, 1, 9, 3, 6, 6, 5, 3, 7, 4, 4, 8, 7, 3, 2, 9, 5, 0, 8, 2, 3, 7, 8, 9, 2, 4, 1, 8, 1, 6, 2, 2, 6, 9, 1, 6, 6, 2, 8, 0, 6, 1, 2, 4, 7, 7, 7, 8, 4, 6, 7, 6, 5, 6, 1, 4, 6, 1, 1, 5, 4, 8, 1, 0, 4, 0, 4, 7, 7, 0, 6, 7, 1, 8, 2, 2, 0, 8, 4, 4, 5, 5, 5, 8, 7, 7, 2, 8, 6, 8, 5, 1, 3, 7, 2, 6, 4, 1, 8, 3, 9, 6, 3, 9, 4, 0, 0, 4, 0, 3, 7, 4, 3, 7, 9, 4, 8, 4, 2, 7, 2, 7, 4, 7, 4, 1, 6, 1, 7, 8, 4, 9, 2, 6, 2, 4, 6, 9, 2, 8, 6, 1, 0, 7, 0, 0, 5, 6, 1, 0, 8, 0, 8, 7, 7, 0, 3, 9, 3, 7, 5, 1, 0, 8, 5, 6, 4, 8, 3, 9, 3, 8, 9, 8, 5, 6, 5, 9, 3, 1, 3, 3, 5, 6, 7, 4, 4, 0, 1, 7, 5, 4, 0, 3, 5, 5, 4, 3, 6, 3, 6, 2, 6, 1, 0, 4, 3, 8, 3, 7, 1, 0, 1, 2, 5, 7, 5, 3, 1, 3, 3, 0, 5, 3, 7, 7, 0, 5, 9, 6, 6, 4, 1, 8, 3, 7, 7, 3, 8, 3, 8, 3, 6, 5, 5, 8, 2, 5, 1, 6, 1, 7, 6, 8, 4, 0, 8, 6, 7, 7, 6, 5, 3, 6, 5, 9, 8, 0, 8, 1, 7, 4, 8, 9, 9, 7, 6, 9, 5, 7, 1, 5, 1, 8, 0, 7, 9, 3, 7, 3, 9, 1, 9, 6, 9, 1, 2, 7, 5, 3, 9, 8, 9, 3, 1, 9, 0, 7, 5, 4, 5, 8, 6, 2, 7, 2, 8, 0, 6, 3, 4, 5, 8, 7, 8, 1, 8, 3, 9, 7, 3, 4, 0, 9, 8, 8, 1, 6, 6, 3, 7, 3, 3, 4, 0, 1, 1, 8, 3, 4, 3, 0, 5, 3, 6, 2, 9, 9, 0, 5, 7, 7, 5, 9, 9, 7, 3, 9, 9, 1, 9, 0, 7, 0, 9, 2, 6, 9, 5, 9, 0, 6, 8, 2, 5, 7, 0, 1, 3, 4, 7, 2, 5, 9, 3, 0, 7, 9, 4, 6, 7, 7, 1, 8, 1, 2, 6, 6, 3, 3, 4, 1, 5, 0, 2, 2, 8, 6, 1, 6, 8, 3, 8, 2, 4, 6, 0, 6, 3, 7, 8, 1, 4, 6, 7, 4, 4, 9, 9, 5, 7, 0, 1, 2, 1, 3, 0, 5, 9, 8, 8, 4, 0, 0, 9, 4, 7, 7, 6, 4, 7, 7, 0, 5, 8, 9, 5, 9, 6, 0, 8, 3, 8, 6, 1, 7, 5, 4, 5, 3, 3, 2, 9, 0, 7, 0, 7, 5, 3, 3, 2, 5, 8, 6, 0, 3, 3, 1, 6, 4, 0, 8, 4, 6, 5, 8, 3, 3, 6, 8, 6, 4, 7, 2, 0, 1, 6, 1, 2, 0, 0, 1, 4, 6, 0, 5, 0, 7, 1, 9, 3, 5, 1, 0, 8, 7, 9, 6, 5, 7, 4, 9, 6, 7, 4, 8, 6, 3, 0, 9, 5, 9, 8, 1, 3, 2, 2, 5, 7, 5, 0, 6, 4, 8, 2, 7, 4, 1, 2, 0, 8, 7, 9, 7, 0, 4, 2, 1, 7, 9, 7, 4, 5, 6, 1, 1, 7, 7, 1, 9, 9, 7, 5, 6, 6, 4, 8, 2, 9, 9, 1, 6, 3, 6, 5, 9, 3, 8, 9, 2, 2, 9, 3, 1, 6, 7, 6, 1, 3, 6, 0, 5, 7, 8, 6, 9, 3, 1, 6, 6, 3, 4, 4, 5, 8, 0, 7, 4, 4, 6, 0, 5, 5, 5, 5, 4, 9, 9, 3, 8, 9, 8, 4, 2, 7, 2, 7, 8, 4, 1, 1, 4, 4, 0, 1, 6, 9, 4, 7, 5, 1, 3, 3, 9, 6, 9, 4, 7, 1, 6, 2, 7, 0, 8, 9, 1, 9, 8, 3, 5, 0, 7, 1, 9, 8, 0, 9, 8, 6, 3, 8, 2, 5, 1, 3, 5, 6, 3, 6, 2, 8, 0, 2, 3, 5, 9, 0, 5, 0, 2, 9, 4, 6, 5, 7, 6, 2, 1, 0, 0, 9, 8, 7, 3, 7, 7, 7, 4, 8, 2, 9, 3, 9, 0, 5, 7, 1, 4, 1, 6, 6, 0, 5, 3, 6, 8, 1, 9, 6, 8, 0, 8, 7, 1, 3, 4, 9, 5, 6, 0, 2, 1, 6, 7, 1, 3, 8, 7, 6, 7, 0, 2, 1, 8, 9, 2, 0, 3, 6, 2, 4, 4, 3, 2, 2, 6, 7, 9, 6, 5, 7, 3, 5, 8, 4, 8, 0, 0, 3, 7, 5, 3, 7, 8, 4, 2, 1, 3, 0, 1, 3, 1, 9, 0, 1, 1, 7, 4, 6, 1, 2, 3, 0, 5, 5, 0, 3, 9, 3, 5, 8, 6, 8, 5, 8, 7, 0, 4, 1, 8, 5, 6, 7, 5, 5, 3, 1, 5, 9, 3, 3, 9, 1, 0, 3, 0, 8, 2, 1, 4, 9, 1, 8, 4, 0, 4, 4, 0, 3, 8, 1, 6, 3, 5, 9, 9, 8, 4, 2, 7, 1, 0, 3, 1, 1, 1, 0, 0, 8, 1, 5, 8, 1, 0, 5, 0, 1, 4, 1, 9, 5, 0, 9, 6, 9, 5, 6, 0, 7, 1, 4, 3, 5, 4, 4, 3, 9, 0, 1, 9, 5, 3, 1, 1, 2, 1, 7, 5, 3, 3, 7, 1, 2, 1, 6, 8, 0, 4, 9, 4, 1, 7, 3, 3, 9, 6, 0, 7, 8, 7, 7, 4, 1, 8, 3, 1, 0, 8, 5, 6, 6, 0, 0, 4, 2, 3, 9, 1, 4, 5, 7, 7, 7, 0, 1, 7, 9, 3, 3, 7, 6, 0, 5, 4, 1, 0, 6, 3, 1, 0, 1, 1, 2, 7, 4, 0, 8, 5, 2, 0, 8, 1, 5, 1, 0, 6, 7, 2, 1, 0, 0, 8, 4, 8, 8, 2, 4, 6, 4, 3, 3, 0, 3, 8, 8, 6, 4, 1, 4, 1, 1, 5, 6, 0, 9, 5, 9, 1, 0, 2, 6, 4, 1, 0, 1, 7, 3, 3, 7, 7, 7, 1, 5, 9, 9, 5, 9, 9, 0, 4, 9, 5, 8, 4, 3, 1, 6, 4, 9, 8, 5, 3, 3, 8, 0, 7, 1, 0, 8, 8, 6, 3, 6, 1, 3, 1, 3, 2, 9, 6, 7, 1, 5, 8, 1, 7, 5, 1, 1, 0, 0, 9, 4, 0, 3, 3, 9, 0, 3, 3, 6, 1, 5, 3, 2, 7, 3, 4, 9, 2, 5, 8, 0, 2, 4, 2, 6, 5, 1, 9, 7, 5, 0, 1, 4, 7, 5, 0, 0, 6, 7, 1, 6, 4, 5, 8, 6, 8, 4, 2, 7, 7, 5, 4, 5, 7, 4, 3, 5, 7, 3, 3, 3, 7, 8, 6, 1, 5, 2, 6, 1, 5, 6, 7, 4, 2, 4, 0, 7, 9, 0, 6, 1, 1, 4, 3, 3, 6, 0, 3, 8, 9, 9, 9, 3, 8, 7, 6, 6, 1, 3, 9, 2, 9, 3, 3, 1, 2, 6, 0, 1, 3, 2, 1, 2, 4, 1, 7, 9, 2, 7, 0, 3, 2, 2, 9, 4, 2, 8, 4, 8, 6, 0, 9, 6, 0, 6, 7, 0, 2, 4, 3, 6, 3, 6, 7, 9, 2, 6, 3, 4, 8, 5, 0, 2, 3, 2, 0, 3, 5, 7, 4, 3, 4, 7, 0, 9, 2, 4, 9, 7, 3, 7, 7, 0, 6, 1, 1, 7, 6, 6, 0, 1, 5, 3, 6, 7, 8, 6, 7, 4, 7, 5, 2, 5, 6, 1, 1, 0, 8, 1, 3, 7, 4, 3, 8, 1, 8, 2, 6, 1, 8, 9, 4, 6, 4, 4, 4, 5, 0, 9, 4, 8, 2, 6, 1, 5, 0, 8, 4, 7, 7, 7, 5, 0, 7, 3, 7, 6, 0, 3, 2, 4, 9, 1, 0, 3, 3, 8, 9, 3, 5, 7, 7, 3, 2, 7, 9, 8, 7, 4, 1, 4, 5, 0, 0, 7, 0, 4, 3, 5, 1, 0, 7, 0, 4, 6, 0, 9, 6, 8, 6, 6, 9, 4, 8, 3, 7, 0, 7, 2, 2, 9, 1, 4, 3, 0, 3, 9, 7, 7, 1, 1, 4, 5, 0, 6, 5, 1, 1, 6, 3, 4, 8, 3, 9, 9, 0, 4, 2, 5, 1, 4, 0, 7, 1, 1, 6, 1, 2, 8, 5, 5, 6, 8, 1, 1, 8, 0, 7, 9, 1, 9, 5, 6, 3, 4, 0, 3, 9, 1, 9, 4, 1, 4, 1, 8, 5, 4, 1, 5, 0, 2, 5, 1, 6, 6, 4, 0, 9, 3, 8, 4, 3, 9, 9, 8, 3, 7, 5, 5, 6, 3, 7, 0, 5, 8, 7, 8, 7, 9, 7, 1, 1, 6, 4, 4, 4, 7, 1, 1, 7, 4, 9, 3, 5, 9, 0, 9, 1, 7, 6, 5, 1, 7, 3, 3, 5, 5, 5, 9, 8, 7, 4, 9, 6, 7, 5, 9, 2, 7, 0, 8, 2, 0, 9, 7, 7, 5, 8, 2, 6, 6, 8, 3, 6, 8, 4, 6, 9, 5, 4, 1, 1, 4, 4, 9, 7, 3, 0, 9, 8, 6, 8, 5, 1, 8, 7, 2, 2, 7, 2, 6, 4, 3, 2, 2, 2, 7, 4, 2, 0, 0, 1, 3, 2, 9, 7, 3, 6, 9, 3, 8, 0, 1, 1, 5, 8, 8, 9, 8, 0, 2, 7, 6, 9, 5, 0, 2, 3, 5, 9, 4, 3, 3, 2, 0, 8, 2, 4, 7, 5, 3, 2, 3, 4, 2, 8, 7, 6, 9, 9, 3, 9, 3, 5, 6, 4, 4, 1, 4, 4, 9, 9, 8, 4, 1, 7, 2, 9, 3, 1, 6, 4, 5, 5, 7, 5, 9, 8, 9, 4, 2, 8, 1, 3, 7, 3, 5, 8, 8, 6, 1, 0, 0, 9, 1, 6, 3, 6, 5, 5, 3, 0, 1, 3, 0, 8, 4, 5, 8, 5, 0, 3, 9, 2, 4, 0, 0, 9, 8, 5, 9, 8, 6, 1, 3, 0, 0, 2, 9, 5, 3, 1, 3, 1, 4, 8, 7, 5, 6, 6, 3, 8, 9, 3, 5, 3, 2, 5, 8, 7, 7, 5, 2, 5, 9, 9, 5, 2, 4, 7, 2, 0, 1, 1, 1, 8, 7, 3, 6, 7, 1, 7, 1, 5, 3, 1, 2, 5, 3, 6, 7, 4, 9, 3, 4, 9, 0, 9, 7, 3, 3, 9, 3, 8, 6, 8, 3, 5, 6, 2, 4, 0, 5, 0, 3, 3, 4, 8, 6, 2, 5, 0, 6, 6, 0, 1, 7, 6, 8, 9, 9, 8, 5, 9, 9, 0, 2, 5, 2, 2, 3, 7, 4, 2, 3, 0, 6, 4, 2, 7, 5, 3, 0, 6, 2, 1, 6, 4, 4, 8, 7, 2, 4, 1, 5, 9, 1, 5, 0, 1, 2, 5, 2, 7, 6, 4, 0, 9, 8, 0, 8, 9, 0, 3, 6, 1, 7, 8, 2, 2, 4, 9, 3, 0, 9, 9, 9, 6, 2, 0, 1, 2, 9, 1, 7, 6, 1, 5, 6, 0, 0, 1, 5, 7, 4, 6, 8, 9, 5, 8, 1, 7, 4, 7, 6, 8, 4, 0, 8, 1, 9, 5, 1, 1, 4, 4, 1, 1, 0, 4, 7, 9, 0, 4, 5, 5, 2, 0, 9, 9, 2, 9, 3, 1, 4, 8, 5, 9, 9, 1, 4, 7, 9, 8, 6, 3, 0, 5, 3, 7, 7, 5, 6, 7, 0, 6, 7, 0, 3, 8, 3, 3, 8, 7, 0, 0, 5, 5, 5, 3, 2, 0, 5, 5, 8, 6, 7, 2, 8, 6, 2, 9, 1, 1, 7, 9, 1, 0, 7, 5, 1, 0, 4, 6, 1, 3, 0, 3, 6, 3, 9, 4, 9, 8, 9, 6, 5, 7, 2, 3, 5, 2, 8, 8, 4, 7, 7, 3, 8, 1, 3, 9, 3, 6, 3, 7, 2, 0, 9, 1, 1, 0, 7, 0, 9, 5, 4, 5, 3, 5, 5, 1, 7, 0, 5, 0, 4, 8, 8, 1, 3, 3, 0, 9, 8, 1, 2, 4, 9, 8, 9, 7, 3, 3, 9, 4, 6, 6, 7, 2, 9, 6, 2, 1, 9, 4, 6, 9, 6, 3, 0, 3, 3, 9, 0, 4, 4, 9, 5, 0, 1, 4, 3, 9, 6, 4, 6, 7, 8, 0, 8, 1, 7, 0, 9, 0, 2, 2, 4, 0, 8, 4, 3, 0, 0, 1, 5, 1, 1, 5, 3, 2, 4, 1, 3, 4, 1, 1, 6, 5, 5, 1, 9, 2, 0, 6, 9, 6, 1, 7, 2, 5, 1, 1, 5, 1, 7, 0, 2, 4, 8, 2, 3, 1, 1, 0, 7, 5, 9, 3, 7, 6, 3, 8, 5, 2, 9, 0, 8, 3, 1, 9, 1, 7, 9, 2]\n",
            "              precision    recall  f1-score   support\n",
            "\n",
            "           0       0.86      0.90      0.88      1814\n",
            "           1       0.84      0.88      0.86      1828\n",
            "           2       0.92      0.85      0.88      1803\n",
            "           3       0.80      0.83      0.81      1719\n",
            "           4       0.90      0.88      0.89      1812\n",
            "           5       0.84      0.85      0.84      1768\n",
            "           6       0.85      0.84      0.85      1832\n",
            "           7       0.86      0.90      0.88      1808\n",
            "           8       0.86      0.79      0.82      1812\n",
            "           9       0.86      0.84      0.85      1804\n",
            "\n",
            "    accuracy                           0.86     18000\n",
            "   macro avg       0.86      0.86      0.86     18000\n",
            "weighted avg       0.86      0.86      0.86     18000\n",
            "\n"
          ],
          "name": "stdout"
        }
      ]
    },
    {
      "cell_type": "code",
      "metadata": {
        "id": "wA2Mrj0HpPw1",
        "colab_type": "code",
        "colab": {}
      },
      "source": [
        ""
      ],
      "execution_count": 0,
      "outputs": []
    }
  ]
}